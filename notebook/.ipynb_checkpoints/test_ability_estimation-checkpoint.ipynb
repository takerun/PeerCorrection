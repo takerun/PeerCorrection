{
 "cells": [
  {
   "cell_type": "code",
   "execution_count": 1,
   "metadata": {
    "collapsed": true
   },
   "outputs": [],
   "source": [
    "import os,sys\n",
    "import glob\n",
    "import time,datetime\n",
    "import GPy\n",
    "import GPyOpt\n",
    "import numpy as np\n",
    "import pandas as pd"
   ]
  },
  {
   "cell_type": "code",
   "execution_count": 3,
   "metadata": {
    "collapsed": true
   },
   "outputs": [],
   "source": [
    "%run ../tools/TrainTest.py\n",
    "%run ../tools/PCG1.py"
   ]
  },
  {
   "cell_type": "code",
   "execution_count": 4,
   "metadata": {
    "collapsed": true
   },
   "outputs": [],
   "source": [
    "# path information\n",
    "train_fold_num = 5\n",
    "snapshot_path = '../result/snapshot/ability_estimation/'\n",
    "snapshot_form = 'PCG1-hyper6-EI5000w500-fold{0}-'\n",
    "groundtruth_csv = '../dataset/open_peer_review/peer_review/translated_groundtruth.csv'\n",
    "peer_review_csv = '../dataset/open_peer_review/peer_review/peer_review_forPG3_suffled.csv'"
   ]
  },
  {
   "cell_type": "code",
   "execution_count": 5,
   "metadata": {
    "collapsed": true
   },
   "outputs": [],
   "source": [
    "gDF = pd.read_csv(groundtruth_csv)\n",
    "rDF = pd.read_csv(peer_review_csv)"
   ]
  },
  {
   "cell_type": "code",
   "execution_count": null,
   "metadata": {
    "collapsed": true
   },
   "outputs": [],
   "source": [
    "for i in xrange(train_fold_num):\n",
    "    fold_id = i\n",
    "    # preprocess train&test dataset\n",
    "    rBlocks = foldDataset(rDF, train_fold_num)\n",
    "    trainDF = rBlocks.pop(fold_id).reset_index(drop=True)\n",
    "    testDF = pd.concat(rBlocks).reset_index(drop=True)\n",
    "\n",
    "    npz = np.load('../result/snapshot/PG1-hyper5-EI5000w500-fold0-20170730192612.npz')\n",
    "    print(myBopt.x_opt)\n",
    "    print(myBopt.fx_opt)\n",
    "\n",
    "    # testing\n",
    "    '''\n",
    "    optX = myBopt.x_opt\n",
    "    testModel = PCG1(gDF,testDF)\n",
    "    cor = testModel.corrcoefWithTruth(optX)\n",
    "    print('Test correlation coefficient: {}'.format(cor))\n",
    "    '''"
   ]
  }
 ],
 "metadata": {
  "kernelspec": {
   "display_name": "Python 2",
   "language": "python",
   "name": "python2"
  },
  "language_info": {
   "codemirror_mode": {
    "name": "ipython",
    "version": 2
   },
   "file_extension": ".py",
   "mimetype": "text/x-python",
   "name": "python",
   "nbconvert_exporter": "python",
   "pygments_lexer": "ipython2",
   "version": "2.7.6"
  }
 },
 "nbformat": 4,
 "nbformat_minor": 0
}
