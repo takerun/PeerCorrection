{
 "cells": [
  {
   "cell_type": "code",
   "execution_count": 1,
   "metadata": {
    "collapsed": true
   },
   "outputs": [],
   "source": [
    "import os,sys\n",
    "import time,datetime\n",
    "import numpy as np\n",
    "import pandas as pd\n",
    "from bayes_opt import BayesianOptimization\n",
    "%run ../tools/TrainTest.py"
   ]
  },
  {
   "cell_type": "markdown",
   "metadata": {},
   "source": [
    "#### 以降嬉しい探索空間を見つけていく作業, 実際の実行はboPCG.pyで"
   ]
  },
  {
   "cell_type": "code",
   "execution_count": 2,
   "metadata": {
    "collapsed": true
   },
   "outputs": [],
   "source": [
    "# config\n",
    "bo_num_iter = 0\n",
    "bo_init_points = 20\n",
    "groundtruth_csv = '../dataset/open_peer_review_v2/peer_review/translated_groundtruth.csv'\n",
    "peer_review_csv = '../dataset/open_peer_review_v2/peer_review/peer_review_forPG3.csv'\n",
    "gDF = pd.read_csv(groundtruth_csv)\n",
    "rDF = pd.read_csv(peer_review_csv)"
   ]
  },
  {
   "cell_type": "markdown",
   "metadata": {},
   "source": [
    "### PCG1"
   ]
  },
  {
   "cell_type": "code",
   "execution_count": 1,
   "metadata": {
    "collapsed": true
   },
   "outputs": [],
   "source": [
    "snapshot_form = 'PCG1-hyper6-RAM5000w500-{}'\n",
    "%run ../tools/PCG1.py"
   ]
  },
  {
   "cell_type": "code",
   "execution_count": 3,
   "metadata": {
    "collapsed": true
   },
   "outputs": [],
   "source": [
    "trainModel = PCG1(gDF, rDF)\n",
    "def PCG1_evaluate(mu0,\n",
    "                  gamma0,\n",
    "                  alpha0,\n",
    "                  beta0,\n",
    "                  eta0,\n",
    "                  kappa0):\n",
    "    cor = trainModel.corrcoefWithTruth([mu0,gamma0,alpha0,beta0,eta0,kappa0])\n",
    "    return cor\n",
    "BO = BayesianOptimization(PCG1_evaluate,\n",
    "                          {'mu0': (0.0, 4.0),\n",
    "                            'gamma0': (1.0, 5.0),\n",
    "                            'alpha0': (1.0, 1.0e2),\n",
    "                            'beta0': (1.0, 1.0e2),\n",
    "                            'eta0': (1.0, 5.0),\n",
    "                            'kappa0': (1.0, 1.0e2),\n",
    "                            })"
   ]
  },
  {
   "cell_type": "code",
   "execution_count": 5,
   "metadata": {
    "collapsed": false,
    "scrolled": true
   },
   "outputs": [
    {
     "name": "stdout",
     "output_type": "stream",
     "text": [
      "\u001b[31mInitialization\u001b[0m\n",
      "\u001b[94m-----------------------------------------------------------------------------------------------------\u001b[0m\n",
      " Step |   Time |      Value |    alpha0 |     beta0 |      eta0 |    gamma0 |    kappa0 |       mu0 | \n",
      "    1 | 05m20s | \u001b[35m   0.40702\u001b[0m | \u001b[32m  37.7742\u001b[0m | \u001b[32m  24.5305\u001b[0m | \u001b[32m   3.7422\u001b[0m | \u001b[32m   1.8337\u001b[0m | \u001b[32m  89.8417\u001b[0m | \u001b[32m   3.8615\u001b[0m | \n",
      "    2 | 05m05s | \u001b[35m   0.44103\u001b[0m | \u001b[32m  77.5251\u001b[0m | \u001b[32m  84.1967\u001b[0m | \u001b[32m   3.4206\u001b[0m | \u001b[32m   1.8501\u001b[0m | \u001b[32m  79.0149\u001b[0m | \u001b[32m   3.0309\u001b[0m | \n",
      "\u001b[31mBayesian Optimization\u001b[0m\n",
      "\u001b[94m-----------------------------------------------------------------------------------------------------\u001b[0m\n",
      " Step |   Time |      Value |    alpha0 |     beta0 |      eta0 |    gamma0 |    kappa0 |       mu0 | \n"
     ]
    }
   ],
   "source": [
    "BO.maximize(init_points=bo_init_points, n_iter=bo_num_iter)"
   ]
  },
  {
   "cell_type": "markdown",
   "metadata": {},
   "source": [
    "### PG1PC2"
   ]
  },
  {
   "cell_type": "code",
   "execution_count": null,
   "metadata": {
    "collapsed": true
   },
   "outputs": [],
   "source": [
    "snapshot_form = 'PG1PC2-hyper6-RAM5000w500-{0}-{1}'\n",
    "%run ../tools/PG1C2.py"
   ]
  },
  {
   "cell_type": "code",
   "execution_count": null,
   "metadata": {
    "collapsed": true
   },
   "outputs": [],
   "source": [
    "trainModel = PG1C2(gDF, rDF)\n",
    "def PG1C2_evaluate(mu0,\n",
    "                  gamma0,\n",
    "                  alpha0,\n",
    "                  beta0,\n",
    "                  eta0,\n",
    "                  kappa0):\n",
    "    cor = trainModel.corrcoefWithTruth([mu0,gamma0,eta0,kappa0])\n",
    "    return cor\n",
    "BO = BayesianOptimization(PG1C2_evaluate,\n",
    "                          {'mu0': (0.0, 4.0),\n",
    "                            'gamma0': (1.0, 5.0),\n",
    "                            'alpha0': (1.0, 1.0e2),\n",
    "                            'beta0': (1.0, 1.0e2),\n",
    "                            'eta0': (1.0, 5.0),\n",
    "                            'kappa0': (1.0, 1.0e2),\n",
    "                            })"
   ]
  },
  {
   "cell_type": "code",
   "execution_count": null,
   "metadata": {
    "collapsed": true
   },
   "outputs": [],
   "source": []
  },
  {
   "cell_type": "markdown",
   "metadata": {},
   "source": [
    "### PC2"
   ]
  },
  {
   "cell_type": "code",
   "execution_count": 3,
   "metadata": {
    "collapsed": true
   },
   "outputs": [],
   "source": [
    "snapshot_form = 'PC2-hyper4-RAM5000w500-{0}-{1}'\n",
    "%run ../tools/PC2.py"
   ]
  },
  {
   "cell_type": "code",
   "execution_count": 4,
   "metadata": {
    "collapsed": false
   },
   "outputs": [],
   "source": [
    "trainModel = PC2(gDF, rDF)\n",
    "def PC2_evaluate(mu0,\n",
    "                  gamma0,\n",
    "                  eta0,\n",
    "                  kappa0):\n",
    "    cor = trainModel.corrcoefWithTruth([mu0,gamma0,eta0,kappa0])\n",
    "    return cor\n",
    "BO = BayesianOptimization(PC2_evaluate,\n",
    "                          {'mu0': (0.0, 4.0),\n",
    "                            'gamma0': (1.0, 5.0),\n",
    "                            'eta0': (1.0, 5.0),\n",
    "                            'kappa0': (1.0, 1.0e2),\n",
    "                            })"
   ]
  },
  {
   "cell_type": "code",
   "execution_count": null,
   "metadata": {
    "collapsed": false
   },
   "outputs": [
    {
     "name": "stdout",
     "output_type": "stream",
     "text": [
      "\u001b[31mInitialization\u001b[0m\n",
      "\u001b[94m-----------------------------------------------------------------------------\u001b[0m\n",
      " Step |   Time |      Value |      eta0 |    gamma0 |    kappa0 |       mu0 | \n"
     ]
    }
   ],
   "source": [
    "BO.maximize(init_points=bo_init_points, n_iter=bo_num_iter)"
   ]
  },
  {
   "cell_type": "code",
   "execution_count": null,
   "metadata": {
    "collapsed": true
   },
   "outputs": [],
   "source": []
  }
 ],
 "metadata": {
  "kernelspec": {
   "display_name": "Python 2",
   "language": "python",
   "name": "python2"
  },
  "language_info": {
   "codemirror_mode": {
    "name": "ipython",
    "version": 2
   },
   "file_extension": ".py",
   "mimetype": "text/x-python",
   "name": "python",
   "nbconvert_exporter": "python",
   "pygments_lexer": "ipython2",
   "version": "2.7.6"
  }
 },
 "nbformat": 4,
 "nbformat_minor": 0
}
