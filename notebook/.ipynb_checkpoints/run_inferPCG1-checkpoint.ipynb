{
 "cells": [
  {
   "cell_type": "code",
   "execution_count": 1,
   "metadata": {
    "collapsed": true
   },
   "outputs": [],
   "source": [
    "import numpy as np\n",
    "import pandas as pd\n",
    "import pystan\n",
    "import pickle"
   ]
  },
  {
   "cell_type": "code",
   "execution_count": 2,
   "metadata": {
    "collapsed": true
   },
   "outputs": [],
   "source": [
    "def eapSave(fit_result, file_name):\n",
    "    mean_list = fit_result.summary()['summary'][:,0]\n",
    "    row_name = fit_result.summary()['summary_rownames']\n",
    "    df = pd.DataFrame({'parameter': row_name, 'eap': mean_list})\n",
    "    df.to_csv(file_name,index=False)"
   ]
  },
  {
   "cell_type": "markdown",
   "metadata": {},
   "source": [
    "PCG1 [1,1,9,0.5,10,0.5]"
   ]
  },
  {
   "cell_type": "code",
   "execution_count": 3,
   "metadata": {
    "collapsed": true
   },
   "outputs": [],
   "source": [
    "gdf = pd.read_csv('../dataset/peer_review/translated_groundtruth.csv')\n",
    "truth = gdf['grade'].get_values()\n",
    "%run ../tools/inferPCG1.py\n",
    "eapSave(fit,'../result/pcg1_5000w500_mean.csv')\n",
    "estimated_df = pd.read_csv('../result/pcg1_5000w500_mean.csv')\n",
    "estimated_cg = estimated_df['eap'][0:470].get_values()\n",
    "np.corrcoef(truth,estimated_cg)[0,1]"
   ]
  },
  {
   "cell_type": "markdown",
   "metadata": {
    "collapsed": false
   },
   "source": [
    "NUTS, ELAPSED TIME: 396.971546173sec, 0.40487614278964051\n",
    "\n",
    "HMC, ELAPSED TIME: 1014.13010311sec, 0.4049348835215712\n",
    "\n",
    "最高記録[0.59984829, 3.9662805, 58.13266294, 88.52402435, 29.768422, 55.78512325]で-0.44665599"
   ]
  },
  {
   "cell_type": "markdown",
   "metadata": {},
   "source": [
    "PCG1.pyを用いた場合"
   ]
  },
  {
   "cell_type": "code",
   "execution_count": 2,
   "metadata": {
    "collapsed": true
   },
   "outputs": [],
   "source": [
    "%run ../tools/PCG1.py\n",
    "model = PCG1('../dataset/peer_review/translated_groundtruth.csv','../dataset/peer_review/peer_review_dataset.csv')"
   ]
  },
  {
   "cell_type": "code",
   "execution_count": null,
   "metadata": {
    "collapsed": false
   },
   "outputs": [],
   "source": [
    "model.corrcoefWithTruth([0.59984829, 3.9662805, 58.13266294, 88.52402435, 29.768422, 55.78512325])"
   ]
  },
  {
   "cell_type": "code",
   "execution_count": null,
   "metadata": {
    "collapsed": true
   },
   "outputs": [],
   "source": []
  },
  {
   "cell_type": "code",
   "execution_count": null,
   "metadata": {
    "collapsed": true
   },
   "outputs": [],
   "source": []
  },
  {
   "cell_type": "code",
   "execution_count": null,
   "metadata": {
    "collapsed": true
   },
   "outputs": [],
   "source": [
    "fit.summary()['summary'][:,0][0:470]"
   ]
  },
  {
   "cell_type": "code",
   "execution_count": 4,
   "metadata": {
    "collapsed": true
   },
   "outputs": [],
   "source": [
    "with open(os.path.join('../result/pcg1w200_extract.pkl'), 'wb') as f:\n",
    "    pickle.dump(fit.extract(), f)\n",
    "\n",
    "result_g = pickle.load(open('../result/pcg1w200_extract.pkl', 'rb'))\n",
    "result_g"
   ]
  }
 ],
 "metadata": {
  "kernelspec": {
   "display_name": "Python 2",
   "language": "python",
   "name": "python2"
  },
  "language_info": {
   "codemirror_mode": {
    "name": "ipython",
    "version": 2
   },
   "file_extension": ".py",
   "mimetype": "text/x-python",
   "name": "python",
   "nbconvert_exporter": "python",
   "pygments_lexer": "ipython2",
   "version": "2.7.6"
  }
 },
 "nbformat": 4,
 "nbformat_minor": 0
}
