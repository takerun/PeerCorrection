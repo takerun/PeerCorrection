{
 "cells": [
  {
   "cell_type": "code",
   "execution_count": 1,
   "metadata": {
    "collapsed": true
   },
   "outputs": [],
   "source": [
    "import os,sys\n",
    "import time,datetime\n",
    "import GPy\n",
    "import GPyOpt\n",
    "import numpy as np\n",
    "import pandas as pd\n",
    "%run ../tools/TrainTest.py"
   ]
  },
  {
   "cell_type": "code",
   "execution_count": 2,
   "metadata": {
    "collapsed": true
   },
   "outputs": [],
   "source": [
    "# functions\n",
    "def timeStamp():\n",
    "    # return time as str\n",
    "    todaydetail = datetime.datetime.today()\n",
    "    return todaydetail.strftime(\"%Y%m%d%H%M%S\")\n",
    "\n",
    "def saveGPyOpt(myBopt,fold_num):\n",
    "    filename = snapshot_form.format(fold_num,timeStamp())\n",
    "    path = os.path.join(snapshot_path, filename)\n",
    "    np.savez_compressed(path, myBopt.X, myBopt.Y)\n",
    "    print(\"Save: {}\".format(path))"
   ]
  },
  {
   "cell_type": "code",
   "execution_count": 4,
   "metadata": {
    "collapsed": false
   },
   "outputs": [],
   "source": [
    "tune_trial_num = 100\n",
    "snapshot_path = '../result/snapshot/ability_estimation'\n",
    "groundtruth_csv = '../dataset/open_peer_review_v2/peer_review/translated_groundtruth.csv'\n",
    "peer_review_csv = '../dataset/open_peer_review_v2/peer_review/peer_review_forPG3.csv'\n",
    "gDF = pd.read_csv(groundtruth_csv)\n",
    "rDF = pd.read_csv(peer_review_csv)"
   ]
  },
  {
   "cell_type": "markdown",
   "metadata": {},
   "source": [
    "### PG1PC2"
   ]
  },
  {
   "cell_type": "code",
   "execution_count": 5,
   "metadata": {
    "collapsed": true
   },
   "outputs": [],
   "source": [
    "%run ../tools/PG1PC2.py\n",
    "# config\n",
    "snapshot_form = 'PG1PC2-hyper6-EI5000w500-{0}-{1}'"
   ]
  },
  {
   "cell_type": "code",
   "execution_count": null,
   "metadata": {
    "collapsed": false
   },
   "outputs": [],
   "source": [
    "Model = PG1PC2(gDF, rDF)\n",
    "# training\n",
    "bounds = [\n",
    "    {'name': 'mu0', 'type': 'continuous', 'domain': (0,4)},\n",
    "    {'name': 'gamma0', 'type': 'continuous', 'domain': (1.0e-2,1.0e2)},\n",
    "    {'name': 'alpha0', 'type': 'continuous', 'domain': (1.0e-2,1.0e2)},\n",
    "    {'name': 'beta0', 'type': 'continuous', 'domain': (1.0e-2,1.0e2)},\n",
    "    {'name': 'eta0', 'type': 'continuous', 'domain': (1.0e-2,1.0e2)},\n",
    "    {'name': 'kappa0', 'type': 'continuous', 'domain': (1.0e-2,1.0e2)}\n",
    "]\n",
    "myBopt = GPyOpt.methods.BayesianOptimization(f=Model.FunctionforGPyOpt,domain=bounds,\n",
    "        initial_design_numdata=tune_trial_num,acquisition_type='LCB')\n",
    "saveGPyOpt(myBopt,'full')\n",
    "print(myBopt.x_opt)\n",
    "print(myBopt.fx_opt)\n",
    "with open(os.path.join(snapshot_path, 'resultFullPG1PC2.txt'),'a') as f:\n",
    "    f.write('##PG1PC2,full##\\n')\n",
    "    f.write('x_opt: {}\\n'.format(myBopt.x_opt))\n",
    "    f.write('fx_opt: {}\\n'.format(myBopt.fx_opt))"
   ]
  },
  {
   "cell_type": "markdown",
   "metadata": {},
   "source": [
    "### PG5PC2"
   ]
  },
  {
   "cell_type": "code",
   "execution_count": null,
   "metadata": {
    "collapsed": true
   },
   "outputs": [],
   "source": [
    "%run ../tools/PG5PC2.py\n",
    "# config\n",
    "snapshot_form = 'PG5PC2-hyper6-EI5000w500-{0}-{1}'"
   ]
  },
  {
   "cell_type": "code",
   "execution_count": null,
   "metadata": {
    "collapsed": true
   },
   "outputs": [],
   "source": [
    "Model = PG5PC2(gDF, rDF)\n",
    "# training\n",
    "bounds = [\n",
    "    {'name': 'mu0', 'type': 'continuous', 'domain': (0,4)},\n",
    "    {'name': 'gamma0', 'type': 'continuous', 'domain': (1.0e-2,1.0e2)},\n",
    "    {'name': 'beta0', 'type': 'continuous', 'domain': (1.0e-2,1.0e2)},\n",
    "    {'name': 'eta0', 'type': 'continuous', 'domain': (1.0e-2,1.0e2)},\n",
    "    {'name': 'kappa0', 'type': 'continuous', 'domain': (1.0e-2,1.0e2)},\n",
    "    {'name': 'lambda', 'type': 'continuous', 'domain': (1.0e-2,1.0e2)}\n",
    "]\n",
    "myBopt = GPyOpt.methods.BayesianOptimization(f=Model.FunctionforGPyOpt,domain=bounds,\n",
    "        initial_design_numdata=tune_trial_num,acquisition_type='LCB')\n",
    "saveGPyOpt(myBopt,'full')\n",
    "print(myBopt.x_opt)\n",
    "print(myBopt.fx_opt)\n",
    "with open(os.path.join(snapshot_path, 'resultFullPG5PC2.txt'),'a') as f:\n",
    "    f.write('##PG5PC2,full##\\n')\n",
    "    f.write('x_opt: {}\\n'.format(myBopt.x_opt))\n",
    "    f.write('fx_opt: {}\\n'.format(myBopt.fx_opt))"
   ]
  },
  {
   "cell_type": "markdown",
   "metadata": {},
   "source": [
    "### PCG1"
   ]
  },
  {
   "cell_type": "code",
   "execution_count": null,
   "metadata": {
    "collapsed": true
   },
   "outputs": [],
   "source": [
    "%run ../tools/PCG1.py\n",
    "# config\n",
    "snapshot_form = 'PCG1-hyper6-EI5000w500-{0}-{1}'"
   ]
  },
  {
   "cell_type": "code",
   "execution_count": null,
   "metadata": {
    "collapsed": true
   },
   "outputs": [],
   "source": [
    "Model = PCG1(gDF, rDF)\n",
    "# training\n",
    "bounds = [\n",
    "    {'name': 'mu0', 'type': 'continuous', 'domain': (0,4)},\n",
    "    {'name': 'gamma0', 'type': 'continuous', 'domain': (1.0e-2,1.0e2)},\n",
    "    {'name': 'alpha0', 'type': 'continuous', 'domain': (1.0e-2,1.0e2)},\n",
    "    {'name': 'beta0', 'type': 'continuous', 'domain': (1.0e-2,1.0e2)},\n",
    "    {'name': 'eta0', 'type': 'continuous', 'domain': (1.0e-2,1.0e2)},\n",
    "    {'name': 'kappa0', 'type': 'continuous', 'domain': (1.0e-2,1.0e2)}\n",
    "]\n",
    "myBopt = GPyOpt.methods.BayesianOptimization(f=Model.FunctionforGPyOpt,domain=bounds,\n",
    "        initial_design_numdata=tune_trial_num,acquisition_type='LCB')\n",
    "saveGPyOpt(myBopt,'full')\n",
    "print(myBopt.x_opt)\n",
    "print(myBopt.fx_opt)\n",
    "with open(os.path.join(snapshot_path, 'resultFullPCG1.txt'),'a') as f:\n",
    "    f.write('##PCG1,full##\\n')\n",
    "    f.write('x_opt: {}\\n'.format(myBopt.x_opt))\n",
    "    f.write('fx_opt: {}\\n'.format(myBopt.fx_opt))"
   ]
  },
  {
   "cell_type": "markdown",
   "metadata": {},
   "source": [
    "### PC1"
   ]
  },
  {
   "cell_type": "code",
   "execution_count": null,
   "metadata": {
    "collapsed": true
   },
   "outputs": [],
   "source": [
    "%run ../tools/PC1.py\n",
    "# config\n",
    "snapshot_form = 'PC1-hyper4-EI5000w500-{0}-{1}'"
   ]
  },
  {
   "cell_type": "code",
   "execution_count": null,
   "metadata": {
    "collapsed": true
   },
   "outputs": [],
   "source": [
    "Model = PC1(gDF, rDF)\n",
    "# training\n",
    "bounds = [\n",
    "    {'name': 'mu0', 'type': 'continuous', 'domain': (-2,2)},\n",
    "    {'name': 'gamma0', 'type': 'continuous', 'domain': (1.0e-2,1.0e2)},\n",
    "    {'name': 'eta0', 'type': 'continuous', 'domain': (1.0e-2,1.0e2)},\n",
    "    {'name': 'kappa0', 'type': 'continuous', 'domain': (1.0e-2,1.0e2)}\n",
    "]\n",
    "myBopt = GPyOpt.methods.BayesianOptimization(f=Model.FunctionforGPyOpt,domain=bounds,\n",
    "        initial_design_numdata=tune_trial_num,acquisition_type='LCB')\n",
    "saveGPyOpt(myBopt,'full')\n",
    "print(myBopt.x_opt)\n",
    "print(myBopt.fx_opt)\n",
    "with open(os.path.join(snapshot_path, 'resultFullPC1.txt'),'a') as f:\n",
    "    f.write('##PC1,full##\\n')\n",
    "    f.write('x_opt: {}\\n'.format(myBopt.x_opt))\n",
    "    f.write('fx_opt: {}\\n'.format(myBopt.fx_opt))"
   ]
  },
  {
   "cell_type": "markdown",
   "metadata": {},
   "source": [
    "### PC2"
   ]
  },
  {
   "cell_type": "code",
   "execution_count": null,
   "metadata": {
    "collapsed": true
   },
   "outputs": [],
   "source": [
    "%run ../tools/PC2.py\n",
    "# config\n",
    "snapshot_form = 'PC2-hyper4-EI5000w500-{0}-{1}'"
   ]
  },
  {
   "cell_type": "code",
   "execution_count": null,
   "metadata": {
    "collapsed": true
   },
   "outputs": [],
   "source": [
    "Model = PC2(gDF, rDF)\n",
    "# training\n",
    "bounds = [\n",
    "    {'name': 'mu0', 'type': 'continuous', 'domain': (0,4)},\n",
    "    {'name': 'gamma0', 'type': 'continuous', 'domain': (1.0e-2,1.0e2)},\n",
    "    {'name': 'eta0', 'type': 'continuous', 'domain': (1.0e-2,1.0e2)},\n",
    "    {'name': 'kappa0', 'type': 'continuous', 'domain': (1.0e-2,1.0e2)}\n",
    "]\n",
    "myBopt = GPyOpt.methods.BayesianOptimization(f=Model.FunctionforGPyOpt,domain=bounds,\n",
    "        initial_design_numdata=tune_trial_num,acquisition_type='LCB')\n",
    "saveGPyOpt(myBopt,'full')\n",
    "print(myBopt.x_opt)\n",
    "print(myBopt.fx_opt)\n",
    "with open(os.path.join(snapshot_path, 'resultFullPC2.txt'),'a') as f:\n",
    "    f.write('##PC2,full##\\n')\n",
    "    f.write('x_opt: {}\\n'.format(myBopt.x_opt))\n",
    "    f.write('fx_opt: {}\\n'.format(myBopt.fx_opt))"
   ]
  },
  {
   "cell_type": "markdown",
   "metadata": {},
   "source": [
    "### PG1"
   ]
  },
  {
   "cell_type": "code",
   "execution_count": null,
   "metadata": {
    "collapsed": true
   },
   "outputs": [],
   "source": [
    "%run ../tools/PG1.py\n",
    "# config\n",
    "snapshot_form = 'PG1-hyper5-EI5000w500-{0}-{1}'"
   ]
  },
  {
   "cell_type": "code",
   "execution_count": null,
   "metadata": {
    "collapsed": true
   },
   "outputs": [],
   "source": [
    "Model = PG1(gDF, rDF)\n",
    "# training\n",
    "bounds = [\n",
    "    {'name': 'mu0', 'type': 'continuous', 'domain': (0,4)},\n",
    "    {'name': 'gamma0', 'type': 'continuous', 'domain': (1.0e-2,1.0e2)},\n",
    "    {'name': 'alpha0', 'type': 'continuous', 'domain': (1.0e-2,1.0e2)},\n",
    "    {'name': 'beta0', 'type': 'continuous', 'domain': (1.0e-2,1.0e2)},\n",
    "    {'name': 'eta0', 'type': 'continuous', 'domain': (1.0e-2,1.0e2)}\n",
    "]\n",
    "myBopt = GPyOpt.methods.BayesianOptimization(f=Model.CorFunctionforGPyOpt,domain=bounds,\n",
    "        initial_design_numdata=tune_trial_num,acquisition_type='LCB')\n",
    "saveGPyOpt(myBopt,'full')\n",
    "print(myBopt.x_opt)\n",
    "print(myBopt.fx_opt)\n",
    "with open(os.path.join(snapshot_path, 'resultFullPG1.txt'),'a') as f:\n",
    "    f.write('##PG1,full##\\n')\n",
    "    f.write('x_opt: {}\\n'.format(myBopt.x_opt))\n",
    "    f.write('fx_opt: {}\\n'.format(myBopt.fx_opt))"
   ]
  },
  {
   "cell_type": "markdown",
   "metadata": {},
   "source": [
    "### PG5"
   ]
  },
  {
   "cell_type": "code",
   "execution_count": null,
   "metadata": {
    "collapsed": true
   },
   "outputs": [],
   "source": [
    "%run ../tools/PG5.py\n",
    "# config\n",
    "snapshot_form = 'PG5-hyper5-EI5000w500-{0}-{1}'"
   ]
  },
  {
   "cell_type": "code",
   "execution_count": null,
   "metadata": {
    "collapsed": true
   },
   "outputs": [],
   "source": [
    "Model = PG5(gDF, rDF)\n",
    "# training\n",
    "bounds = [\n",
    "    {'name': 'mu0', 'type': 'continuous', 'domain': (0,4)},\n",
    "    {'name': 'gamma0', 'type': 'continuous', 'domain': (1.0e-2,1.0e2)},\n",
    "    {'name': 'beta0', 'type': 'continuous', 'domain': (1.0e-2,1.0e2)},\n",
    "    {'name': 'eta0', 'type': 'continuous', 'domain': (1.0e-2,1.0e2)},\n",
    "    {'name': 'lambda', 'type': 'continuous', 'domain': (1.0e-2,1.0e2)}\n",
    "]\n",
    "myBopt = GPyOpt.methods.BayesianOptimization(f=Model.FunctionforGPyOpt,domain=bounds,\n",
    "        initial_design_numdata=tune_trial_num,acquisition_type='LCB')\n",
    "saveGPyOpt(myBopt,'full')\n",
    "print(myBopt.x_opt)\n",
    "print(myBopt.fx_opt)\n",
    "with open(os.path.join(snapshot_path, 'resultFullPG5.txt'),'a') as f:\n",
    "    f.write('##PG5,full##\\n')\n",
    "    f.write('x_opt: {}\\n'.format(myBopt.x_opt))\n",
    "    f.write('fx_opt: {}\\n'.format(myBopt.fx_opt))"
   ]
  }
 ],
 "metadata": {
  "kernelspec": {
   "display_name": "Python 2",
   "language": "python",
   "name": "python2"
  },
  "language_info": {
   "codemirror_mode": {
    "name": "ipython",
    "version": 2
   },
   "file_extension": ".py",
   "mimetype": "text/x-python",
   "name": "python",
   "nbconvert_exporter": "python",
   "pygments_lexer": "ipython2",
   "version": "2.7.6"
  }
 },
 "nbformat": 4,
 "nbformat_minor": 0
}
