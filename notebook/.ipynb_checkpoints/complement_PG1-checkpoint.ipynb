{
 "cells": [
  {
   "cell_type": "code",
   "execution_count": 1,
   "metadata": {
    "collapsed": false
   },
   "outputs": [],
   "source": [
    "import os,sys\n",
    "import time,datetime\n",
    "import GPy\n",
    "import GPyOpt\n",
    "import numpy as np\n",
    "from scipy.stats import bernoulli, norm\n",
    "import pandas as pd"
   ]
  },
  {
   "cell_type": "code",
   "execution_count": 2,
   "metadata": {
    "collapsed": false
   },
   "outputs": [],
   "source": [
    "%run ../tools/TrainTest.py\n",
    "%run ../tools/PG1GM.py"
   ]
  },
  {
   "cell_type": "code",
   "execution_count": 3,
   "metadata": {
    "collapsed": true
   },
   "outputs": [],
   "source": [
    "trial_num = 5\n",
    "tune_trial_num = 100\n",
    "snapshot_path = '../result/snapshot/complement'\n",
    "snapshot_form = 'PC1-hyper4-EI5000w500-split{0}-{1}'\n",
    "peer_review_csv = '../dataset/open_peer_review/peer_review/peer_review_forPG3_suffled.csv'\n"
   ]
  },
  {
   "cell_type": "code",
   "execution_count": 4,
   "metadata": {
    "collapsed": true
   },
   "outputs": [],
   "source": [
    "# functions\n",
    "def timeStamp():\n",
    "    # return time as str\n",
    "    todaydetail = datetime.datetime.today()\n",
    "    return todaydetail.strftime(\"%Y%m%d%H%M%S\")\n",
    "\n",
    "def saveGPyOpt(myBopt,fold_num):\n",
    "    filename = snapshot_form.format(fold_num,timeStamp())\n",
    "    path = os.path.join(snapshot_path, filename)\n",
    "    np.savez_compressed(path, myBopt.X, myBopt.Y)\n",
    "    print(\"Save: {}\".format(path))"
   ]
  },
  {
   "cell_type": "code",
   "execution_count": 5,
   "metadata": {
    "collapsed": true
   },
   "outputs": [],
   "source": [
    "# preprocess train&test dataset\n",
    "rDF = pd.read_csv(peer_review_csv)"
   ]
  },
  {
   "cell_type": "code",
   "execution_count": 6,
   "metadata": {
    "collapsed": false
   },
   "outputs": [],
   "source": [
    "np.random.seed(12345678)\n",
    "shuffled_pattern = [np.random.permutation(len(rDF)) for i in xrange(trial_num)]"
   ]
  },
  {
   "cell_type": "code",
   "execution_count": 7,
   "metadata": {
    "collapsed": false
   },
   "outputs": [],
   "source": [
    "df = rDF.take(shuffled_pattern[0]).reset_index(drop=True)"
   ]
  },
  {
   "cell_type": "code",
   "execution_count": 8,
   "metadata": {
    "collapsed": true
   },
   "outputs": [],
   "source": [
    "train, val, test = splitDataset523(df)"
   ]
  },
  {
   "cell_type": "code",
   "execution_count": 9,
   "metadata": {
    "collapsed": false
   },
   "outputs": [],
   "source": [
    "pc1 = PC1GM(train,val,test)"
   ]
  },
  {
   "cell_type": "code",
   "execution_count": 10,
   "metadata": {
    "collapsed": false
   },
   "outputs": [],
   "source": [
    "stan_fit = pc1.fit([0.37116358, 2.794291, 81.00932954, 53.96695435])"
   ]
  },
  {
   "cell_type": "code",
   "execution_count": 11,
   "metadata": {
    "collapsed": true
   },
   "outputs": [],
   "source": [
    "eap_value = stan_fit.summary()['summary'][:,0]"
   ]
  },
  {
   "cell_type": "code",
   "execution_count": 13,
   "metadata": {
    "collapsed": false
   },
   "outputs": [],
   "source": [
    "split = pc1.userNum\n",
    "ability = eap_value[0:split]\n",
    "bias = eap_value[split:split*2]\n",
    "noise = eap_value[split*2]"
   ]
  },
  {
   "cell_type": "code",
   "execution_count": 19,
   "metadata": {
    "collapsed": false
   },
   "outputs": [],
   "source": [
    "sender = pc1.senderVal\n",
    "receiver = pc1.receiverVal"
   ]
  },
  {
   "cell_type": "code",
   "execution_count": 28,
   "metadata": {
    "collapsed": true
   },
   "outputs": [],
   "source": [
    "corrected_code = \"\"\"\n",
    "data{\n",
    "  int<lower=1> N;\n",
    "  int sender[N];\n",
    "  int receiver[N];\n",
    "  int<lower=1> uNum;\n",
    "  real<lower=-2, upper=2> ability[uNum];\n",
    "  int<lower=1> vNum;\n",
    "  real<lower=-2, upper=2> bias[vNum];\n",
    "  real<lower=-2, upper=2> noise;\n",
    "}\n",
    "\n",
    "parameters{\n",
    "  int corrected[N];\n",
    "}\n",
    "\n",
    "model{\n",
    "  for(i in 1:N){\n",
    "    corrected[i] ~ bernoulli(inv_logit(ability[receiver[i]+1]+bias[sender[i]+1]+noise));\n",
    "  }\n",
    "}\n",
    "\"\"\""
   ]
  },
  {
   "cell_type": "code",
   "execution_count": 21,
   "metadata": {
    "collapsed": false
   },
   "outputs": [],
   "source": [
    "stanData = {\n",
    "    'N': len(sender), 'sender': sender, 'receiver': receiver,\n",
    "    'uNum': len(ability),'ability': ability, 'vNum': len(bias), 'bias': bias,\n",
    "    'noise': noise\n",
    "}"
   ]
  },
  {
   "cell_type": "code",
   "execution_count": 29,
   "metadata": {
    "collapsed": false
   },
   "outputs": [
    {
     "ename": "ValueError",
     "evalue": "Failed to parse Stan model 'anon_model_8b87108a054185a8c451887fe1f3b8b5'. Error message:\nSYNTAX ERROR, MESSAGE(S) FROM PARSER:\n\ninteger parameters or transformed parameters are not allowed;  found declared type int, parameter name=corrected\nProblem with declaration.\n\nERROR at line 14\n\n 13:    parameters{\n 14:      int corrected[N];\n                          ^\n 15:    }\n\n",
     "output_type": "error",
     "traceback": [
      "\u001b[1;31m---------------------------------------------------------------------------\u001b[0m",
      "\u001b[1;31mValueError\u001b[0m                                Traceback (most recent call last)",
      "\u001b[1;32m<ipython-input-29-5f74f8a72bc9>\u001b[0m in \u001b[0;36m<module>\u001b[1;34m()\u001b[0m\n\u001b[1;32m----> 1\u001b[1;33m \u001b[0mgenerator\u001b[0m \u001b[1;33m=\u001b[0m \u001b[0mpystan\u001b[0m\u001b[1;33m.\u001b[0m\u001b[0mStanModel\u001b[0m\u001b[1;33m(\u001b[0m\u001b[0mmodel_code\u001b[0m\u001b[1;33m=\u001b[0m\u001b[0mcorrected_code\u001b[0m\u001b[1;33m)\u001b[0m\u001b[1;33m\u001b[0m\u001b[0m\n\u001b[0m",
      "\u001b[1;32m/home/stakeru/.virtualenvs/pairwise/local/lib/python2.7/site-packages/pystan/model.pyc\u001b[0m in \u001b[0;36m__init__\u001b[1;34m(self, file, charset, model_name, model_code, stanc_ret, boost_lib, eigen_lib, verbose, obfuscate_model_name, extra_compile_args)\u001b[0m\n\u001b[0;32m    209\u001b[0m                                          \u001b[0mmodel_name\u001b[0m\u001b[1;33m=\u001b[0m\u001b[0mmodel_name\u001b[0m\u001b[1;33m,\u001b[0m\u001b[1;33m\u001b[0m\u001b[0m\n\u001b[0;32m    210\u001b[0m                                          \u001b[0mverbose\u001b[0m\u001b[1;33m=\u001b[0m\u001b[0mverbose\u001b[0m\u001b[1;33m,\u001b[0m\u001b[1;33m\u001b[0m\u001b[0m\n\u001b[1;32m--> 211\u001b[1;33m                                          obfuscate_model_name=obfuscate_model_name)\n\u001b[0m\u001b[0;32m    212\u001b[0m \u001b[1;33m\u001b[0m\u001b[0m\n\u001b[0;32m    213\u001b[0m         \u001b[1;32mif\u001b[0m \u001b[1;32mnot\u001b[0m \u001b[0misinstance\u001b[0m\u001b[1;33m(\u001b[0m\u001b[0mstanc_ret\u001b[0m\u001b[1;33m,\u001b[0m \u001b[0mdict\u001b[0m\u001b[1;33m)\u001b[0m\u001b[1;33m:\u001b[0m\u001b[1;33m\u001b[0m\u001b[0m\n",
      "\u001b[1;32m/home/stakeru/.virtualenvs/pairwise/local/lib/python2.7/site-packages/pystan/api.pyc\u001b[0m in \u001b[0;36mstanc\u001b[1;34m(file, charset, model_code, model_name, verbose, obfuscate_model_name)\u001b[0m\n\u001b[0;32m    127\u001b[0m     \u001b[1;32mif\u001b[0m \u001b[0mresult\u001b[0m\u001b[1;33m[\u001b[0m\u001b[1;34m'status'\u001b[0m\u001b[1;33m]\u001b[0m \u001b[1;33m==\u001b[0m \u001b[1;33m-\u001b[0m\u001b[1;36m1\u001b[0m\u001b[1;33m:\u001b[0m  \u001b[1;31m# EXCEPTION_RC is -1\u001b[0m\u001b[1;33m\u001b[0m\u001b[0m\n\u001b[0;32m    128\u001b[0m         \u001b[0merror_msg\u001b[0m \u001b[1;33m=\u001b[0m \u001b[1;34m\"Failed to parse Stan model '{}'. Error message:\\n{}\"\u001b[0m\u001b[1;33m.\u001b[0m\u001b[0mformat\u001b[0m\u001b[1;33m(\u001b[0m\u001b[0mmodel_name\u001b[0m\u001b[1;33m,\u001b[0m \u001b[0mresult\u001b[0m\u001b[1;33m[\u001b[0m\u001b[1;34m'msg'\u001b[0m\u001b[1;33m]\u001b[0m\u001b[1;33m)\u001b[0m\u001b[1;33m\u001b[0m\u001b[0m\n\u001b[1;32m--> 129\u001b[1;33m         \u001b[1;32mraise\u001b[0m \u001b[0mValueError\u001b[0m\u001b[1;33m(\u001b[0m\u001b[0merror_msg\u001b[0m\u001b[1;33m)\u001b[0m\u001b[1;33m\u001b[0m\u001b[0m\n\u001b[0m\u001b[0;32m    130\u001b[0m     \u001b[1;32melif\u001b[0m \u001b[0mresult\u001b[0m\u001b[1;33m[\u001b[0m\u001b[1;34m'status'\u001b[0m\u001b[1;33m]\u001b[0m \u001b[1;33m==\u001b[0m \u001b[1;36m0\u001b[0m\u001b[1;33m:\u001b[0m  \u001b[1;31m# SUCCESS_RC is 0\u001b[0m\u001b[1;33m\u001b[0m\u001b[0m\n\u001b[0;32m    131\u001b[0m         \u001b[0mlogger\u001b[0m\u001b[1;33m.\u001b[0m\u001b[0mdebug\u001b[0m\u001b[1;33m(\u001b[0m\u001b[1;34m\"Successfully parsed Stan model '{}'.\"\u001b[0m\u001b[1;33m.\u001b[0m\u001b[0mformat\u001b[0m\u001b[1;33m(\u001b[0m\u001b[0mmodel_name\u001b[0m\u001b[1;33m)\u001b[0m\u001b[1;33m)\u001b[0m\u001b[1;33m\u001b[0m\u001b[0m\n",
      "\u001b[1;31mValueError\u001b[0m: Failed to parse Stan model 'anon_model_8b87108a054185a8c451887fe1f3b8b5'. Error message:\nSYNTAX ERROR, MESSAGE(S) FROM PARSER:\n\ninteger parameters or transformed parameters are not allowed;  found declared type int, parameter name=corrected\nProblem with declaration.\n\nERROR at line 14\n\n 13:    parameters{\n 14:      int corrected[N];\n                          ^\n 15:    }\n\n"
     ]
    }
   ],
   "source": [
    "generator = pystan.StanModel(model_code=corrected_code)"
   ]
  },
  {
   "cell_type": "code",
   "execution_count": null,
   "metadata": {
    "collapsed": true
   },
   "outputs": [],
   "source": []
  }
 ],
 "metadata": {
  "kernelspec": {
   "display_name": "Python 2",
   "language": "python",
   "name": "python2"
  },
  "language_info": {
   "codemirror_mode": {
    "name": "ipython",
    "version": 2
   },
   "file_extension": ".py",
   "mimetype": "text/x-python",
   "name": "python",
   "nbconvert_exporter": "python",
   "pygments_lexer": "ipython2",
   "version": "2.7.6"
  }
 },
 "nbformat": 4,
 "nbformat_minor": 0
}
