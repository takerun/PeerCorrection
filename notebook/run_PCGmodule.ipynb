{
 "cells": [
  {
   "cell_type": "code",
   "execution_count": 1,
   "metadata": {
    "collapsed": true
   },
   "outputs": [],
   "source": [
    "import pandas as pd\n",
    "import time\n",
    "groundtruth = '../dataset/open_peer_review_v2/peer_review/translated_groundtruth.csv'\n",
    "peer_reciew = '../dataset/open_peer_review_v2/peer_review/peer_review_forPG3.csv'\n",
    "gDF = pd.read_csv(groundtruth)\n",
    "rDF = pd.read_csv(peer_reciew)"
   ]
  },
  {
   "cell_type": "code",
   "execution_count": 2,
   "metadata": {
    "collapsed": true
   },
   "outputs": [],
   "source": [
    "import numpy as np\n",
    "def rmse(targets, predictions):\n",
    "    return np.sqrt(((predictions - targets) ** 2).mean())"
   ]
  },
  {
   "cell_type": "code",
   "execution_count": 3,
   "metadata": {
    "collapsed": true
   },
   "outputs": [],
   "source": [
    "def eapSave(fit_result, file_name):\n",
    "    mean_list = fit_result.summary()['summary'][:,0]\n",
    "    row_name = fit_result.summary()['summary_rownames']\n",
    "    df = pd.DataFrame({'parameter': row_name, 'eap': mean_list})\n",
    "    df.to_csv(file_name,index=False)"
   ]
  },
  {
   "cell_type": "markdown",
   "metadata": {},
   "source": [
    "pg1\n",
    "\n",
    "* 公開データセット\n",
    "    * 0.41074258905312383:[2.40841889, 6.77462461, 79.11369152, 85.80229935, 21.78680711]\n",
    "* 検証\n",
    "    * fold0: 0.376908076091\n",
    "* 公開データセットv2\n",
    "    * 0.45351276292693476:[2.02894704, 3.1703593, 38.15323905, 49.59605567, 2.7455798]"
   ]
  },
  {
   "cell_type": "code",
   "execution_count": 4,
   "metadata": {
    "collapsed": true
   },
   "outputs": [],
   "source": [
    "%run ../tools/PG1.py\n",
    "modelPG1 = PG1(gDF,rDF)  "
   ]
  },
  {
   "cell_type": "code",
   "execution_count": 5,
   "metadata": {
    "collapsed": false
   },
   "outputs": [
    {
     "data": {
      "text/plain": [
       "0.4531444469555993"
      ]
     },
     "execution_count": 5,
     "metadata": {},
     "output_type": "execute_result"
    }
   ],
   "source": [
    "modelPG1.corrcoefWithTruth([2.02894704, 3.1703593, 38.15323905, 49.59605567, 2.7455798])"
   ]
  },
  {
   "cell_type": "code",
   "execution_count": null,
   "metadata": {
    "collapsed": true
   },
   "outputs": [],
   "source": []
  },
  {
   "cell_type": "markdown",
   "metadata": {},
   "source": [
    "pg3\n",
    "* 公開データセット\n",
    "    * 0.36220771043946176: [2.9518053, 42.05718364, 60.99846285, 3.22677753, 32.73395754]\n",
    "* 検証\n",
    "    * fold0:0.411796889152"
   ]
  },
  {
   "cell_type": "code",
   "execution_count": 4,
   "metadata": {
    "collapsed": true
   },
   "outputs": [],
   "source": [
    "%run ../tools/PG3.py\n",
    "modelPG3 = PG3(gDF,r3DF)"
   ]
  },
  {
   "cell_type": "code",
   "execution_count": 5,
   "metadata": {
    "collapsed": false
   },
   "outputs": [
    {
     "data": {
      "text/plain": [
       "0.36220771043946176"
      ]
     },
     "execution_count": 5,
     "metadata": {},
     "output_type": "execute_result"
    }
   ],
   "source": [
    "modelPG3.corrcoefWithTruth([2.9518053, 42.05718364, 60.99846285, 3.22677753, 32.73395754])"
   ]
  },
  {
   "cell_type": "code",
   "execution_count": null,
   "metadata": {
    "collapsed": true
   },
   "outputs": [],
   "source": []
  },
  {
   "cell_type": "markdown",
   "metadata": {},
   "source": [
    "pg4\n",
    "\n",
    "* 公開データセット\n",
    "    * 0.44692347134806271:[2.30348081, 4.4241827, 57.07851846, 88.98764654]\n",
    "* 検証\n",
    "    * fold0:0.469551201208"
   ]
  },
  {
   "cell_type": "code",
   "execution_count": 6,
   "metadata": {
    "collapsed": false
   },
   "outputs": [],
   "source": [
    "%run ../tools/PG4.py\n",
    "modelPG4 = PG4(gDF,r3DF)"
   ]
  },
  {
   "cell_type": "code",
   "execution_count": 20,
   "metadata": {
    "collapsed": false
   },
   "outputs": [
    {
     "data": {
      "text/plain": [
       "0.44692347134806271"
      ]
     },
     "execution_count": 20,
     "metadata": {},
     "output_type": "execute_result"
    }
   ],
   "source": [
    "modelPG4.corrcoefWithTruth([2.30348081, 4.4241827, 57.07851846, 88.98764654])"
   ]
  },
  {
   "cell_type": "code",
   "execution_count": null,
   "metadata": {
    "collapsed": true
   },
   "outputs": [],
   "source": []
  },
  {
   "cell_type": "markdown",
   "metadata": {},
   "source": [
    "pg5\n",
    "\n",
    "* 公開データセット\n",
    "    * 0.45676160743397271:[3.71383869, 1.72362926, 56.91952985, 47.07077222, 8.10820333]\n",
    "* 検証\n",
    "    * fold0:0.488235528691"
   ]
  },
  {
   "cell_type": "code",
   "execution_count": 8,
   "metadata": {
    "collapsed": true
   },
   "outputs": [],
   "source": [
    "%run ../tools/PG5.py\n",
    "modelPG5 = PG5(gDF,r3DF)"
   ]
  },
  {
   "cell_type": "code",
   "execution_count": 21,
   "metadata": {
    "collapsed": false
   },
   "outputs": [
    {
     "data": {
      "text/plain": [
       "0.45676160743397271"
      ]
     },
     "execution_count": 21,
     "metadata": {},
     "output_type": "execute_result"
    }
   ],
   "source": [
    "modelPG5.corrcoefWithTruth([3.71383869, 1.72362926, 56.91952985, 47.07077222, 8.10820333])"
   ]
  },
  {
   "cell_type": "code",
   "execution_count": 12,
   "metadata": {
    "collapsed": true
   },
   "outputs": [],
   "source": [
    "fit = modelPG5.fit([3.71383869, 1.72362926, 56.91952985, 47.07077222, 8.10820333])\n",
    "eapSave(fit,'../result/pg5_5000w500_mean.csv')"
   ]
  },
  {
   "cell_type": "code",
   "execution_count": null,
   "metadata": {
    "collapsed": true
   },
   "outputs": [],
   "source": []
  },
  {
   "cell_type": "markdown",
   "metadata": {},
   "source": [
    "pc1\n",
    "\n",
    "* 公開データセット\n",
    "    * 0.17423350926682052: [0.37116358, 2.794291, 81.00932954, 53.96695435]\n",
    "* 検証\n",
    "    * fold0:0.130091442228"
   ]
  },
  {
   "cell_type": "code",
   "execution_count": 10,
   "metadata": {
    "collapsed": false
   },
   "outputs": [],
   "source": [
    "%run ../tools/PC1.py\n",
    "modelPC1 = PC1(gDF,r3DF)"
   ]
  },
  {
   "cell_type": "code",
   "execution_count": 11,
   "metadata": {
    "collapsed": false
   },
   "outputs": [
    {
     "data": {
      "text/plain": [
       "0.17423350926682052"
      ]
     },
     "execution_count": 11,
     "metadata": {},
     "output_type": "execute_result"
    }
   ],
   "source": [
    "modelPC1.corrcoefWithTruth([0.37116358, 2.794291, 81.00932954, 53.96695435])"
   ]
  },
  {
   "cell_type": "code",
   "execution_count": null,
   "metadata": {
    "collapsed": true
   },
   "outputs": [],
   "source": []
  },
  {
   "cell_type": "markdown",
   "metadata": {},
   "source": [
    "PCG1\n",
    "\n",
    "* 公開データセット\n",
    "    * 0.40069577624007163: [2.6, 4., 58.1, 88.5, 29.7, 55.8]\n",
    "* 検証\n",
    "    * fold0:0.420883024723\n",
    "* 公開データセットv2\n",
    "    * 0.45445822543996522:[2.54785885,4.62864443,67.68716059,22.95702442,6.96275866, 56.26711153]"
   ]
  },
  {
   "cell_type": "code",
   "execution_count": 2,
   "metadata": {
    "collapsed": true
   },
   "outputs": [],
   "source": [
    "%run ../tools/PCG1.py\n",
    "modelPCG1 = PCG1(gDF,rDF)"
   ]
  },
  {
   "cell_type": "code",
   "execution_count": 4,
   "metadata": {
    "collapsed": false
   },
   "outputs": [
    {
     "data": {
      "text/plain": [
       "0.45330650809421719"
      ]
     },
     "execution_count": 4,
     "metadata": {},
     "output_type": "execute_result"
    }
   ],
   "source": [
    "modelPCG1.corrcoefWithTruth([2.54785885,4.62864443,67.68716059,22.95702442,6.96275866, 56.26711153])"
   ]
  },
  {
   "cell_type": "code",
   "execution_count": 17,
   "metadata": {
    "collapsed": false
   },
   "outputs": [],
   "source": [
    "fit = modelPCG1.fit([2.54785885, 4.62864443, 67.68716059, 22.95702442, 6.96275866, 56.26711153])\n",
    "eapSave(fit,'../result/pcg1_5000w500_mean.csv')"
   ]
  },
  {
   "cell_type": "code",
   "execution_count": 20,
   "metadata": {
    "collapsed": false
   },
   "outputs": [
    {
     "data": {
      "text/plain": [
       "1.4198183205964456"
      ]
     },
     "execution_count": 20,
     "metadata": {},
     "output_type": "execute_result"
    }
   ],
   "source": [
    "fit = modelPCG1.fit([2.54785885, 4.62864443, 67.68716059, 22.95702442, 6.96275866, 56.26711153])\n",
    "eap_value = fit.summary()['summary'][:,0]\n",
    "estimated = eap_value[0:modelPCG1.userNum]\n",
    "rmse(modelPCG1.grade, estimated)"
   ]
  },
  {
   "cell_type": "code",
   "execution_count": null,
   "metadata": {
    "collapsed": true
   },
   "outputs": [],
   "source": []
  },
  {
   "cell_type": "markdown",
   "metadata": {},
   "source": [
    "pcg3\n",
    "\n",
    "* 公開データセット\n",
    "    * 0.090928160856557499: [2.66850218, 1.26965507, 43.3753167, 83.0844218 , 16.08320701, 69.77258816]\n",
    "* 検証\n",
    "    * fold0: 0.287622997792\n",
    "    "
   ]
  },
  {
   "cell_type": "code",
   "execution_count": 14,
   "metadata": {
    "collapsed": true
   },
   "outputs": [],
   "source": [
    "%run ../tools/PCG3.py\n",
    "modelPCG3 = PCG3(gDF,r3DF)"
   ]
  },
  {
   "cell_type": "code",
   "execution_count": 22,
   "metadata": {
    "collapsed": false
   },
   "outputs": [
    {
     "data": {
      "text/plain": [
       "-0.090928160856557499"
      ]
     },
     "execution_count": 22,
     "metadata": {},
     "output_type": "execute_result"
    }
   ],
   "source": [
    "modelPCG3.corrcoefWithTruth([2.66850218, 1.26965507, 43.3753167, 83.0844218 , 16.08320701, 69.77258816])"
   ]
  },
  {
   "cell_type": "code",
   "execution_count": null,
   "metadata": {
    "collapsed": true
   },
   "outputs": [],
   "source": []
  },
  {
   "cell_type": "markdown",
   "metadata": {},
   "source": [
    "pcg4\n",
    "\n",
    "* 公開データセット\n",
    "    * 0.45869370823780764:[0.66850218, 1.26965507, 43.3753167, 83.0844218 , 16.08320701]\n",
    "* 検証\n",
    "    * fold0:0.454031099736"
   ]
  },
  {
   "cell_type": "code",
   "execution_count": 23,
   "metadata": {
    "collapsed": true
   },
   "outputs": [],
   "source": [
    "%run ../tools/PCG4.py\n",
    "modelPCG4 = PCG4(gDF,r3DF)"
   ]
  },
  {
   "cell_type": "code",
   "execution_count": 24,
   "metadata": {
    "collapsed": false
   },
   "outputs": [
    {
     "data": {
      "text/plain": [
       "0.45917271888958211"
      ]
     },
     "execution_count": 24,
     "metadata": {},
     "output_type": "execute_result"
    }
   ],
   "source": [
    "modelPCG4.corrcoefWithTruth([0.66850218, 1.26965507, 43.3753167, 83.0844218 , 16.08320701])"
   ]
  },
  {
   "cell_type": "code",
   "execution_count": null,
   "metadata": {
    "collapsed": true
   },
   "outputs": [],
   "source": []
  },
  {
   "cell_type": "markdown",
   "metadata": {
    "collapsed": true
   },
   "source": [
    "pcg5\n",
    "* 公開データセット\n",
    "    * 0.46466666604822982:[0.66850218, 1.26965507, 43.3753167, 83.0844218 , 16.08320701,  69.77258816]\n",
    "* 検証\n",
    "    * fold0:0.43069826145"
   ]
  },
  {
   "cell_type": "code",
   "execution_count": 4,
   "metadata": {
    "collapsed": true
   },
   "outputs": [],
   "source": [
    "%run ../tools/PCG5.py\n",
    "modelPCG5 = PCG5(gDF,rDF)"
   ]
  },
  {
   "cell_type": "code",
   "execution_count": 19,
   "metadata": {
    "collapsed": false
   },
   "outputs": [
    {
     "data": {
      "text/plain": [
       "0.46466666604822982"
      ]
     },
     "execution_count": 19,
     "metadata": {},
     "output_type": "execute_result"
    }
   ],
   "source": [
    "modelPCG5.corrcoefWithTruth([0.66850218, 1.26965507, 43.3753167, 83.0844218 , 16.08320701, 69.77258816])"
   ]
  },
  {
   "cell_type": "code",
   "execution_count": null,
   "metadata": {
    "collapsed": true
   },
   "outputs": [],
   "source": []
  },
  {
   "cell_type": "markdown",
   "metadata": {},
   "source": [
    "mean grade"
   ]
  },
  {
   "cell_type": "code",
   "execution_count": 37,
   "metadata": {
    "collapsed": false
   },
   "outputs": [
    {
     "name": "stdout",
     "output_type": "stream",
     "text": [
      "correlation coefficient: 0.373639942574\n"
     ]
    }
   ],
   "source": [
    "%run ../tools/calculateMeanGrade.py"
   ]
  },
  {
   "cell_type": "code",
   "execution_count": null,
   "metadata": {
    "collapsed": true
   },
   "outputs": [],
   "source": []
  }
 ],
 "metadata": {
  "kernelspec": {
   "display_name": "Python 2",
   "language": "python",
   "name": "python2"
  },
  "language_info": {
   "codemirror_mode": {
    "name": "ipython",
    "version": 2
   },
   "file_extension": ".py",
   "mimetype": "text/x-python",
   "name": "python",
   "nbconvert_exporter": "python",
   "pygments_lexer": "ipython2",
   "version": "2.7.6"
  }
 },
 "nbformat": 4,
 "nbformat_minor": 0
}
