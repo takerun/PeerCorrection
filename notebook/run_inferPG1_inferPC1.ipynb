{
 "cells": [
  {
   "cell_type": "code",
   "execution_count": 1,
   "metadata": {
    "collapsed": false,
    "scrolled": true
   },
   "outputs": [],
   "source": [
    "import os,sys\n",
    "import time,datetime\n",
    "import numpy as np\n",
    "import pandas as pd"
   ]
  },
  {
   "cell_type": "code",
   "execution_count": 2,
   "metadata": {
    "collapsed": true
   },
   "outputs": [],
   "source": [
    "def eapSave(fit_result, file_name):\n",
    "    mean_list = fit_result.summary()['summary'][:,0]\n",
    "    row_name = fit_result.summary()['summary_rownames']\n",
    "    df = pd.DataFrame({'parameter': row_name, 'eap': mean_list})\n",
    "    df.to_csv(file_name,index=False)"
   ]
  },
  {
   "cell_type": "code",
   "execution_count": 3,
   "metadata": {
    "collapsed": true
   },
   "outputs": [],
   "source": [
    "gdf = pd.read_csv('../dataset/peer_review/translated_groundtruth.csv')\n",
    "truth = gdf['grade'].get_values()"
   ]
  },
  {
   "cell_type": "markdown",
   "metadata": {},
   "source": [
    "pg1\n",
    "* -0.40689713154068324: [1,1,9,0.5,10]\n",
    "* -0.41786086303640579:[1.5,1,9,0.5,10]\n",
    "\n",
    "NUTS, ELAPSED TIME: 407.933542013sec,  0.40684531939912749\n",
    "HMC, ELAPSED TIME: 641.654641867sec, 0.40777328968460547"
   ]
  },
  {
   "cell_type": "code",
   "execution_count": null,
   "metadata": {
    "collapsed": true
   },
   "outputs": [],
   "source": [
    "%run ../tools/TrainTest.py\n",
    "%run ../tools/PC1GM.py"
   ]
  },
  {
   "cell_type": "code",
   "execution_count": 4,
   "metadata": {
    "collapsed": false
   },
   "outputs": [
    {
     "name": "stdout",
     "output_type": "stream",
     "text": [
      "Sampling finished. ELAPSED TIME: 246.927541018sec\n"
     ]
    }
   ],
   "source": [
    "%run ../tools/inferPG1.py"
   ]
  },
  {
   "cell_type": "code",
   "execution_count": 5,
   "metadata": {
    "collapsed": false
   },
   "outputs": [],
   "source": [
    "eapSave(fit,'../result/pg1w200_mean.csv')\n",
    "estimated_df = pd.read_csv('../result/pg1w200_mean.csv')\n",
    "estimated_g = estimated_df['eap'][0:470].get_values()"
   ]
  },
  {
   "cell_type": "code",
   "execution_count": 6,
   "metadata": {
    "collapsed": false
   },
   "outputs": [
    {
     "data": {
      "text/plain": [
       "0.40628849682616053"
      ]
     },
     "execution_count": 6,
     "metadata": {},
     "output_type": "execute_result"
    }
   ],
   "source": [
    "np.corrcoef(truth,estimated_g)[0,1]"
   ]
  },
  {
   "cell_type": "code",
   "execution_count": null,
   "metadata": {
    "collapsed": true
   },
   "outputs": [],
   "source": []
  },
  {
   "cell_type": "code",
   "execution_count": null,
   "metadata": {
    "collapsed": true
   },
   "outputs": [],
   "source": []
  },
  {
   "cell_type": "code",
   "execution_count": null,
   "metadata": {
    "collapsed": true
   },
   "outputs": [],
   "source": []
  },
  {
   "cell_type": "code",
   "execution_count": 11,
   "metadata": {
    "collapsed": true
   },
   "outputs": [],
   "source": [
    "mean_list = fit.summary()['summary'][:,0]\n",
    "for i in xrange(470):\n",
    "    if '{0:.8f}'.format(mean_list[i]) != '{0:.8f}'.format(fit.extract()['ability'][:,i].mean()):\n",
    "        print('False')"
   ]
  },
  {
   "cell_type": "code",
   "execution_count": 51,
   "metadata": {
    "collapsed": false
   },
   "outputs": [],
   "source": [
    "with open(os.path.join('../result/pg1w200_extract.pkl'), 'wb') as f:\n",
    "    pickle.dump(fit.extract(), f)\n",
    "\n",
    "result_g = pickle.load(open('../result/pg1w200_extract.pkl', 'rb'))\n",
    "result_g"
   ]
  },
  {
   "cell_type": "markdown",
   "metadata": {},
   "source": [
    "pc1\n",
    "* -0.17656239659378009: [1,1,10,0.5]\n",
    "\n",
    "NUTS, ELAPSED TIME: 205.492471933sec, 0.17577465382864207"
   ]
  },
  {
   "cell_type": "code",
   "execution_count": 4,
   "metadata": {
    "collapsed": false
   },
   "outputs": [
    {
     "name": "stdout",
     "output_type": "stream",
     "text": [
      "Sampling finished. ELAPSED TIME: 160.08018589sec\n"
     ]
    }
   ],
   "source": [
    "%run ../tools/inferPC1.py"
   ]
  },
  {
   "cell_type": "code",
   "execution_count": 5,
   "metadata": {
    "collapsed": false
   },
   "outputs": [],
   "source": [
    "eapSave(fit,'../result/pc1w200_mean.csv')\n",
    "estimated_df = pd.read_csv('../result/pc1w200_mean.csv')\n",
    "estimated_c = estimated_df['eap'][0:470].get_values()"
   ]
  },
  {
   "cell_type": "code",
   "execution_count": 6,
   "metadata": {
    "collapsed": false
   },
   "outputs": [
    {
     "data": {
      "text/plain": [
       "0.1754173910357554"
      ]
     },
     "execution_count": 6,
     "metadata": {},
     "output_type": "execute_result"
    }
   ],
   "source": [
    "np.corrcoef(truth,estimated_c)[0,1]"
   ]
  },
  {
   "cell_type": "code",
   "execution_count": null,
   "metadata": {
    "collapsed": true
   },
   "outputs": [],
   "source": []
  },
  {
   "cell_type": "code",
   "execution_count": null,
   "metadata": {
    "collapsed": true
   },
   "outputs": [],
   "source": []
  },
  {
   "cell_type": "code",
   "execution_count": null,
   "metadata": {
    "collapsed": true
   },
   "outputs": [],
   "source": []
  },
  {
   "cell_type": "code",
   "execution_count": 9,
   "metadata": {
    "collapsed": false
   },
   "outputs": [],
   "source": [
    "mean_list = fit.summary()['summary'][:,0]\n",
    "for i in xrange(470):\n",
    "    if '{0:.8f}'.format(mean_list[i]) != '{0:.8f}'.format(fit.extract()['ability'][:,i].mean()):\n",
    "        print('False')"
   ]
  },
  {
   "cell_type": "code",
   "execution_count": 5,
   "metadata": {
    "collapsed": false
   },
   "outputs": [],
   "source": [
    "with open(os.path.join('../result/pc1w200_extract.pkl'), 'wb') as f:\n",
    "    pickle.dump(fit.extract(), f)\n",
    "    \n",
    "result_c = pickle.load(open('../result/pg1w200_extract.pkl', 'rb'))\n",
    "result_c"
   ]
  }
 ],
 "metadata": {
  "kernelspec": {
   "display_name": "Python 2",
   "language": "python",
   "name": "python2"
  },
  "language_info": {
   "codemirror_mode": {
    "name": "ipython",
    "version": 2
   },
   "file_extension": ".py",
   "mimetype": "text/x-python",
   "name": "python",
   "nbconvert_exporter": "python",
   "pygments_lexer": "ipython2",
   "version": "2.7.6"
  }
 },
 "nbformat": 4,
 "nbformat_minor": 0
}
