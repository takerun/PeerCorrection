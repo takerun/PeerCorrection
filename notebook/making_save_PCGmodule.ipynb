{
 "cells": [
  {
   "cell_type": "code",
   "execution_count": 1,
   "metadata": {
    "collapsed": true
   },
   "outputs": [],
   "source": [
    "import os,sys\n",
    "import time,datetime\n",
    "import pickle\n",
    "import numpy as np\n",
    "import pandas as pd\n",
    "import time\n",
    "groundtruth = '../dataset/open_peer_review_v3/peer_review/translated_groundtruth.csv'\n",
    "peer_review = '../dataset/open_peer_review_v3/peer_review/peer_review_forPG3.csv'\n",
    "gDF = pd.read_csv(groundtruth)\n",
    "rDF = pd.read_csv(peer_review)"
   ]
  },
  {
   "cell_type": "code",
   "execution_count": 12,
   "metadata": {
    "collapsed": false
   },
   "outputs": [],
   "source": [
    "%run ../tools/PG5PC2a.py\n",
    "modelPG5PC2a = PG5PC2a(gDF,rDF)"
   ]
  },
  {
   "cell_type": "markdown",
   "metadata": {},
   "source": [
    "### テスト: corrcoefWithTruth"
   ]
  },
  {
   "cell_type": "code",
   "execution_count": 13,
   "metadata": {
    "collapsed": false
   },
   "outputs": [
    {
     "name": "stdout",
     "output_type": "stream",
     "text": [
      "213.123023033 sec\n"
     ]
    }
   ],
   "source": [
    "start = time.time()\n",
    "car = modelPG5PC2a.corrcoefWithTruth([0.6094, 3.8560, 11.2887, 10.9740, 66.0071, 12.9332, 1.0])\n",
    "elapsed_time = time.time() - start\n",
    "print('{} sec'.format(elapsed_time))"
   ]
  },
  {
   "cell_type": "code",
   "execution_count": 14,
   "metadata": {
    "collapsed": false
   },
   "outputs": [
    {
     "data": {
      "text/plain": [
       "0.45607032270438408"
      ]
     },
     "execution_count": 14,
     "metadata": {},
     "output_type": "execute_result"
    }
   ],
   "source": [
    "car"
   ]
  },
  {
   "cell_type": "code",
   "execution_count": 5,
   "metadata": {
    "collapsed": false
   },
   "outputs": [
    {
     "data": {
      "text/plain": [
       "0.49079361863447923"
      ]
     },
     "execution_count": 5,
     "metadata": {},
     "output_type": "execute_result"
    }
   ],
   "source": [
    "f = open('../result/inferred_parameter/PG1/PG1-20171208162003.pkl','rb')\n",
    "est = pickle.load(f)\n",
    "np.corrcoef(modelPG1.grade, est['ability'])[0,1]"
   ]
  },
  {
   "cell_type": "markdown",
   "metadata": {},
   "source": [
    "### メイキング: 推定パラメータの保存と、モデル表作成"
   ]
  },
  {
   "cell_type": "code",
   "execution_count": 4,
   "metadata": {
    "collapsed": false
   },
   "outputs": [
    {
     "name": "stdout",
     "output_type": "stream",
     "text": [
      "112.192134142 sec\n"
     ]
    }
   ],
   "source": [
    "start = time.time()\n",
    "pg1_fit = modelPG1.fit([2.24705059, 2.64350654, 62.67778188, 78.70005719, 1.33529373])\n",
    "elapsed_time = time.time() - start\n",
    "print('{} sec'.format(elapsed_time))"
   ]
  },
  {
   "cell_type": "markdown",
   "metadata": {},
   "source": [
    "#### パラメータ抽出方法の確認"
   ]
  },
  {
   "cell_type": "markdown",
   "metadata": {},
   "source": [
    "古いパラメータ抽出方法"
   ]
  },
  {
   "cell_type": "code",
   "execution_count": 5,
   "metadata": {
    "collapsed": false
   },
   "outputs": [
    {
     "data": {
      "text/plain": [
       "0.49065246361026571"
      ]
     },
     "execution_count": 5,
     "metadata": {},
     "output_type": "execute_result"
    }
   ],
   "source": [
    "pg1_eap = pg1_fit.summary()['summary'][:,0]\n",
    "pg1_estimated = pg1_eap[0:modelPG1.userNum]\n",
    "np.corrcoef(modelPG1.grade, pg1_estimated)[0,1]"
   ]
  },
  {
   "cell_type": "markdown",
   "metadata": {},
   "source": [
    "新しいパラメータ抽出方法"
   ]
  },
  {
   "cell_type": "code",
   "execution_count": 6,
   "metadata": {
    "collapsed": false
   },
   "outputs": [
    {
     "data": {
      "text/plain": [
       "(collections.OrderedDict, [u'ability', u'reliability', u'bias', u'lp__'])"
      ]
     },
     "execution_count": 6,
     "metadata": {},
     "output_type": "execute_result"
    }
   ],
   "source": [
    "ext = pg1_fit.extract()\n",
    "type(ext), ext.keys()"
   ]
  },
  {
   "cell_type": "code",
   "execution_count": 15,
   "metadata": {
    "collapsed": false,
    "scrolled": true
   },
   "outputs": [
    {
     "data": {
      "text/plain": [
       "0.49065246361026771"
      ]
     },
     "execution_count": 15,
     "metadata": {},
     "output_type": "execute_result"
    }
   ],
   "source": [
    "estimated = ext['ability'].mean(axis=0)\n",
    "np.corrcoef(modelPG1.grade, estimated)[0,1]"
   ]
  },
  {
   "cell_type": "code",
   "execution_count": 53,
   "metadata": {
    "collapsed": false
   },
   "outputs": [],
   "source": [
    "inferred_reliability = ext['reliability'].mean(axis=0)\n",
    "inferred_bias = ext['bias'].mean(axis=0)"
   ]
  },
  {
   "cell_type": "markdown",
   "metadata": {
    "collapsed": true
   },
   "source": [
    "#### パラメータ保存"
   ]
  },
  {
   "cell_type": "code",
   "execution_count": 54,
   "metadata": {
    "collapsed": true
   },
   "outputs": [],
   "source": [
    "save_param_dir = '../result/inferred_parameter/PG1'\n",
    "def saveStanExtract(var, pkl_file):\n",
    "    with open(pkl_file,'wb') as f:\n",
    "        pickle.dump(var,f)\n",
    "def timeStamp():\n",
    "    # return time as str\n",
    "    todaydetail = datetime.datetime.today()\n",
    "    return todaydetail.strftime(\"%Y%m%d%H%M%S\")"
   ]
  },
  {
   "cell_type": "code",
   "execution_count": 55,
   "metadata": {
    "collapsed": false
   },
   "outputs": [],
   "source": [
    "ext = pg1_fit.extract()\n",
    "inferred_ability = ext['ability'].mean(axis=0)\n",
    "inferred_reliability = ext['reliability'].mean(axis=0)\n",
    "inferred_bias = ext['bias'].mean(axis=0)\n",
    "parameters = {'ability':inferred_ability, 'reliability':inferred_reliability, 'bias':inferred_bias}\n",
    "pkl_name = 'PG1-{}.pkl'.format(timeStamp())\n",
    "saveStanExtract(parameters, os.path.join(save_param_dir,pkl_name))"
   ]
  },
  {
   "cell_type": "markdown",
   "metadata": {},
   "source": [
    "読み込み"
   ]
  },
  {
   "cell_type": "code",
   "execution_count": 57,
   "metadata": {
    "collapsed": false
   },
   "outputs": [
    {
     "data": {
      "text/plain": [
       "0.49065246361026771"
      ]
     },
     "execution_count": 57,
     "metadata": {},
     "output_type": "execute_result"
    }
   ],
   "source": [
    "f = open(os.path.join(save_param_dir,pkl_name),'rb')\n",
    "est = pickle.load(f)\n",
    "np.corrcoef(modelPG1.grade, est['ability'])[0,1]"
   ]
  },
  {
   "cell_type": "markdown",
   "metadata": {},
   "source": [
    "#### モデル表の作成"
   ]
  },
  {
   "cell_type": "code",
   "execution_count": 58,
   "metadata": {
    "collapsed": true
   },
   "outputs": [],
   "source": [
    "save_param_dir = '../result/inferred_parameter/PG1'\n",
    "def recordPG1Info(hyper_list, model_file, csv_file):\n",
    "    if os.path.exists(csv_file):\n",
    "        df = pd.read_csv(csv_file)\n",
    "    else:\n",
    "        df = pd.DataFrame(columns=['file','mu0','gamma0','alpha0','beta0','eta0'])\n",
    "    add_srs = pd.Series([model_file]+hyper_list, index=df.columns)\n",
    "    df = df.append(add_srs, ignore_index=True)\n",
    "    df.to_csv(csv_file, index=False)"
   ]
  },
  {
   "cell_type": "code",
   "execution_count": 59,
   "metadata": {
    "collapsed": false
   },
   "outputs": [],
   "source": [
    "recordPG1Info([2.24705059, 2.64350654, 62.67778188, 78.70005719, 1.33529373],pkl_name,os.path.join(save_param_dir,'models.csv'))"
   ]
  },
  {
   "cell_type": "markdown",
   "metadata": {
    "collapsed": true
   },
   "source": [
    "### 確認: PC1のパラメータ抽出"
   ]
  },
  {
   "cell_type": "code",
   "execution_count": 3,
   "metadata": {
    "collapsed": true
   },
   "outputs": [],
   "source": [
    "%run ../tools/PC1.py\n",
    "modelPC1 = PC1(gDF,rDF)"
   ]
  },
  {
   "cell_type": "code",
   "execution_count": 4,
   "metadata": {
    "collapsed": false
   },
   "outputs": [
    {
     "name": "stdout",
     "output_type": "stream",
     "text": [
      "73.515914917 sec\n"
     ]
    }
   ],
   "source": [
    "start = time.time()\n",
    "pc1_fit = modelPC1.fit([-1.83033443, 2.74556604, 65.2612221, 74.74509713])\n",
    "elapsed_time = time.time() - start\n",
    "print('{} sec'.format(elapsed_time))"
   ]
  },
  {
   "cell_type": "code",
   "execution_count": 5,
   "metadata": {
    "collapsed": false
   },
   "outputs": [
    {
     "data": {
      "text/plain": [
       "(collections.OrderedDict, [u'ability', u'bias', u'noise', u'lp__'])"
      ]
     },
     "execution_count": 5,
     "metadata": {},
     "output_type": "execute_result"
    }
   ],
   "source": [
    "ext = pc1_fit.extract()\n",
    "type(ext), ext.keys()"
   ]
  },
  {
   "cell_type": "code",
   "execution_count": 6,
   "metadata": {
    "collapsed": false
   },
   "outputs": [
    {
     "data": {
      "text/plain": [
       "0.23089013952775259"
      ]
     },
     "execution_count": 6,
     "metadata": {},
     "output_type": "execute_result"
    }
   ],
   "source": [
    "estimated = ext['ability'].mean(axis=0)\n",
    "np.corrcoef(modelPC1.grade, estimated)[0,1]"
   ]
  },
  {
   "cell_type": "code",
   "execution_count": 7,
   "metadata": {
    "collapsed": true
   },
   "outputs": [],
   "source": [
    "inferred_bias = ext['bias'].mean(axis=0)\n",
    "inferred_noise = ext['noise'].mean(axis=0)"
   ]
  },
  {
   "cell_type": "code",
   "execution_count": 11,
   "metadata": {
    "collapsed": false
   },
   "outputs": [
    {
     "data": {
      "text/plain": [
       "0.94108952004885216"
      ]
     },
     "execution_count": 11,
     "metadata": {},
     "output_type": "execute_result"
    }
   ],
   "source": [
    "ext['noise'].mean(axis=0)"
   ]
  },
  {
   "cell_type": "code",
   "execution_count": null,
   "metadata": {
    "collapsed": true
   },
   "outputs": [],
   "source": []
  }
 ],
 "metadata": {
  "kernelspec": {
   "display_name": "Python 2",
   "language": "python",
   "name": "python2"
  },
  "language_info": {
   "codemirror_mode": {
    "name": "ipython",
    "version": 2
   },
   "file_extension": ".py",
   "mimetype": "text/x-python",
   "name": "python",
   "nbconvert_exporter": "python",
   "pygments_lexer": "ipython2",
   "version": "2.7.6"
  }
 },
 "nbformat": 4,
 "nbformat_minor": 0
}
