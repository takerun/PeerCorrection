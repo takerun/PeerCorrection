{
 "cells": [
  {
   "cell_type": "code",
   "execution_count": 1,
   "metadata": {
    "collapsed": true
   },
   "outputs": [],
   "source": [
    "import os,sys\n",
    "import time,datetime\n",
    "import numpy as np\n",
    "import pandas as pd\n",
    "from bayes_opt import BayesianOptimization\n",
    "%run ../tools/TrainTest.py"
   ]
  },
  {
   "cell_type": "markdown",
   "metadata": {},
   "source": [
    "#### 以降嬉しい探索空間を見つけていく作業, 実際の実行はboPCG.pyで"
   ]
  },
  {
   "cell_type": "code",
   "execution_count": 2,
   "metadata": {
    "collapsed": true
   },
   "outputs": [],
   "source": [
    "# config\n",
    "bo_num_iter = 0\n",
    "bo_init_points = 50\n",
    "groundtruth_csv = '../dataset/open_peer_review_v2/peer_review/translated_groundtruth.csv'\n",
    "peer_review_csv = '../dataset/open_peer_review_v2/peer_review/peer_review_forPG3.csv'\n",
    "gDF = pd.read_csv(groundtruth_csv)\n",
    "rDF = pd.read_csv(peer_review_csv)"
   ]
  },
  {
   "cell_type": "markdown",
   "metadata": {},
   "source": [
    "### PCG1"
   ]
  },
  {
   "cell_type": "code",
   "execution_count": 1,
   "metadata": {
    "collapsed": true
   },
   "outputs": [],
   "source": [
    "snapshot_form = 'PCG1-hyper6-RAM5000w500-{}'\n",
    "%run ../tools/PCG1.py"
   ]
  },
  {
   "cell_type": "code",
   "execution_count": 3,
   "metadata": {
    "collapsed": true
   },
   "outputs": [],
   "source": [
    "trainModel = PCG1(gDF, rDF)\n",
    "def PCG1_evaluate(mu0,\n",
    "                  gamma0,\n",
    "                  alpha0,\n",
    "                  beta0,\n",
    "                  eta0,\n",
    "                  kappa0):\n",
    "    cor = trainModel.corrcoefWithTruth([mu0,gamma0,alpha0,beta0,eta0,kappa0])\n",
    "    return cor\n",
    "BO = BayesianOptimization(PCG1_evaluate,\n",
    "                          {'mu0': (0.0, 4.0),\n",
    "                            'gamma0': (1.0, 5.0),\n",
    "                            'alpha0': (1.0, 1.0e2),\n",
    "                            'beta0': (1.0, 1.0e2),\n",
    "                            'eta0': (1.0, 5.0),\n",
    "                            'kappa0': (1.0, 1.0e2),\n",
    "                            })"
   ]
  },
  {
   "cell_type": "code",
   "execution_count": 5,
   "metadata": {
    "collapsed": false,
    "scrolled": true
   },
   "outputs": [
    {
     "name": "stdout",
     "output_type": "stream",
     "text": [
      "\u001b[31mInitialization\u001b[0m\n",
      "\u001b[94m-----------------------------------------------------------------------------------------------------\u001b[0m\n",
      " Step |   Time |      Value |    alpha0 |     beta0 |      eta0 |    gamma0 |    kappa0 |       mu0 | \n",
      "    1 | 05m20s | \u001b[35m   0.40702\u001b[0m | \u001b[32m  37.7742\u001b[0m | \u001b[32m  24.5305\u001b[0m | \u001b[32m   3.7422\u001b[0m | \u001b[32m   1.8337\u001b[0m | \u001b[32m  89.8417\u001b[0m | \u001b[32m   3.8615\u001b[0m | \n",
      "    2 | 05m05s | \u001b[35m   0.44103\u001b[0m | \u001b[32m  77.5251\u001b[0m | \u001b[32m  84.1967\u001b[0m | \u001b[32m   3.4206\u001b[0m | \u001b[32m   1.8501\u001b[0m | \u001b[32m  79.0149\u001b[0m | \u001b[32m   3.0309\u001b[0m | \n",
      "\u001b[31mBayesian Optimization\u001b[0m\n",
      "\u001b[94m-----------------------------------------------------------------------------------------------------\u001b[0m\n",
      " Step |   Time |      Value |    alpha0 |     beta0 |      eta0 |    gamma0 |    kappa0 |       mu0 | \n"
     ]
    }
   ],
   "source": [
    "BO.maximize(init_points=bo_init_points, n_iter=bo_num_iter)"
   ]
  },
  {
   "cell_type": "markdown",
   "metadata": {},
   "source": [
    "### PG1PC2"
   ]
  },
  {
   "cell_type": "code",
   "execution_count": null,
   "metadata": {
    "collapsed": true
   },
   "outputs": [],
   "source": [
    "snapshot_form = 'PG1PC2-hyper6-RAM5000w500-{0}-{1}'\n",
    "%run ../tools/PG1C2.py"
   ]
  },
  {
   "cell_type": "code",
   "execution_count": null,
   "metadata": {
    "collapsed": true
   },
   "outputs": [],
   "source": [
    "trainModel = PG1C2(gDF, rDF)\n",
    "def PG1C2_evaluate(mu0,\n",
    "                  gamma0,\n",
    "                  alpha0,\n",
    "                  beta0,\n",
    "                  eta0,\n",
    "                  kappa0):\n",
    "    cor = trainModel.corrcoefWithTruth([mu0,gamma0,eta0,kappa0])\n",
    "    return cor\n",
    "BO = BayesianOptimization(PG1C2_evaluate,\n",
    "                          {'mu0': (0.0, 4.0),\n",
    "                            'gamma0': (1.0, 3.0e1),\n",
    "                            'alpha0': (1.0, 1.0e2),\n",
    "                            'beta0': (1.0, 1.0e2),\n",
    "                            'eta0': (1.0, 1.0e1),\n",
    "                            'kappa0': (1.0, 1.0e2),\n",
    "                            })"
   ]
  },
  {
   "cell_type": "code",
   "execution_count": null,
   "metadata": {
    "collapsed": true
   },
   "outputs": [],
   "source": [
    "BO.maximize(init_points=bo_init_points, n_iter=bo_num_iter)"
   ]
  },
  {
   "cell_type": "markdown",
   "metadata": {},
   "source": [
    "### PC2"
   ]
  },
  {
   "cell_type": "code",
   "execution_count": 3,
   "metadata": {
    "collapsed": true
   },
   "outputs": [],
   "source": [
    "snapshot_form = 'PC2-hyper4-RAM5000w500-{0}-{1}'\n",
    "%run ../tools/PC2.py"
   ]
  },
  {
   "cell_type": "code",
   "execution_count": 6,
   "metadata": {
    "collapsed": false
   },
   "outputs": [],
   "source": [
    "trainModel = PC2(gDF, rDF)\n",
    "def PC2_evaluate(mu0,\n",
    "                  gamma0,\n",
    "                  eta0,\n",
    "                  kappa0):\n",
    "    cor = trainModel.corrcoefWithTruth([mu0,gamma0,eta0,kappa0])\n",
    "    return cor\n",
    "BO = BayesianOptimization(PC2_evaluate,\n",
    "                          {'mu0': (0.0, 4.0),\n",
    "                            'gamma0': (1.0, 3.0e1),\n",
    "                            'eta0': (1.0, 1.0e1),\n",
    "                            'kappa0': (1.0, 1.0e2),\n",
    "                            })"
   ]
  },
  {
   "cell_type": "code",
   "execution_count": null,
   "metadata": {
    "collapsed": false
   },
   "outputs": [
    {
     "name": "stdout",
     "output_type": "stream",
     "text": [
      "\u001b[31mInitialization\u001b[0m\n",
      "\u001b[94m-----------------------------------------------------------------------------\u001b[0m\n",
      " Step |   Time |      Value |      eta0 |    gamma0 |    kappa0 |       mu0 | \n",
      "    1 | 05m59s | \u001b[35m   0.24875\u001b[0m | \u001b[32m   6.3677\u001b[0m | \u001b[32m  22.7405\u001b[0m | \u001b[32m  77.2413\u001b[0m | \u001b[32m   3.9965\u001b[0m | \n",
      "    2 | 06m10s |    0.23940 |    8.2664 |   12.7013 |   80.5701 |    3.6854 | \n",
      "    3 | 11m02s | \u001b[35m   0.27881\u001b[0m | \u001b[32m   3.0006\u001b[0m | \u001b[32m  11.2883\u001b[0m | \u001b[32m  49.7657\u001b[0m | \u001b[32m   3.9281\u001b[0m | \n",
      "    4 | 08m51s | \u001b[35m   0.31292\u001b[0m | \u001b[32m   5.7650\u001b[0m | \u001b[32m  15.4920\u001b[0m | \u001b[32m  68.7125\u001b[0m | \u001b[32m   1.0807\u001b[0m | \n",
      "    5 | 10m44s |    0.22905 |    2.5164 |    3.4560 |   88.5141 |    3.1815 | \n",
      "    6 | 06m35s | \u001b[35m   0.31311\u001b[0m | \u001b[32m   4.5903\u001b[0m | \u001b[32m  26.4847\u001b[0m | \u001b[32m  94.5771\u001b[0m | \u001b[32m   0.3600\u001b[0m | \n",
      "    7 | 06m20s |    0.31241 |    7.9700 |   28.3444 |   52.9638 |    2.1484 | \n",
      "    8 | 06m49s | \u001b[35m   0.31387\u001b[0m | \u001b[32m   7.8567\u001b[0m | \u001b[32m  24.4858\u001b[0m | \u001b[32m  64.1628\u001b[0m | \u001b[32m   0.8940\u001b[0m | \n",
      "    9 | 22m52s |    0.26863 |    1.0555 |    5.5410 |    4.3952 |    1.9956 | \n",
      "   10 | 06m48s | \u001b[35m   0.31509\u001b[0m | \u001b[32m   6.8190\u001b[0m | \u001b[32m  18.9499\u001b[0m | \u001b[32m  98.9478\u001b[0m | \u001b[32m   0.1351\u001b[0m | \n",
      "   11 | 11m48s |    0.31450 |    3.6591 |   19.5444 |   60.1875 |    1.8989 | \n",
      "   12 | 06m35s |    0.26927 |    5.0084 |   18.0813 |   83.9123 |    3.9093 | \n",
      "   13 | 41m14s |    0.29208 |    1.1608 |    8.3141 |   50.4222 |    2.3816 | \n",
      "   14 | 10m42s |    0.26335 |    6.4335 |    5.4677 |   96.7787 |    1.9502 | \n",
      "   15 | 06m52s |    0.23008 |    4.5175 |    5.8611 |   41.4275 |    3.5211 | \n",
      "   16 | 07m28s |    0.31320 |    5.7124 |   27.1277 |   75.9050 |    1.0517 | \n",
      "   17 | 06m22s |    0.29146 |    4.9870 |   17.6888 |   78.2427 |    3.2592 | \n",
      "   18 | 04m12s |    0.30570 |    2.7887 |   20.2563 |   54.0174 |    3.5353 | \n",
      "   19 | 10m52s |    0.30794 |    3.3004 |   12.3959 |   39.1209 |    2.4326 | \n",
      "   20 | 09m56s |    0.24316 |    3.6269 |    4.0478 |   99.1230 |    1.9439 | \n",
      "   21 | 03m13s |    0.29718 |    3.9418 |   25.0994 |   90.5711 |    3.6913 | \n",
      "   22 | 05m38s |    0.30045 |    1.6698 |   10.5781 |   11.9072 |    2.9808 | \n",
      "   23 | 08m32s |    0.26052 |    7.1095 |   16.6785 |   81.3391 |    3.7871 | \n"
     ]
    }
   ],
   "source": [
    "BO.maximize(init_points=bo_init_points, n_iter=bo_num_iter)"
   ]
  },
  {
   "cell_type": "code",
   "execution_count": null,
   "metadata": {
    "collapsed": true
   },
   "outputs": [],
   "source": []
  }
 ],
 "metadata": {
  "kernelspec": {
   "display_name": "Python 2",
   "language": "python",
   "name": "python2"
  },
  "language_info": {
   "codemirror_mode": {
    "name": "ipython",
    "version": 2
   },
   "file_extension": ".py",
   "mimetype": "text/x-python",
   "name": "python",
   "nbconvert_exporter": "python",
   "pygments_lexer": "ipython2",
   "version": "2.7.6"
  }
 },
 "nbformat": 4,
 "nbformat_minor": 0
}
