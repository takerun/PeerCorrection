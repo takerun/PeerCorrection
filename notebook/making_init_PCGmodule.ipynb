{
 "cells": [
  {
   "cell_type": "code",
   "execution_count": 1,
   "metadata": {
    "collapsed": true
   },
   "outputs": [],
   "source": [
    "import os,sys\n",
    "import time,datetime\n",
    "import pickle\n",
    "import numpy as np\n",
    "import pandas as pd\n",
    "import time\n",
    "groundtruth = '../dataset/open_peer_review_v3/peer_review/translated_groundtruth.csv'\n",
    "peer_review = '../dataset/open_peer_review_v3/peer_review/peer_review_forPG3.csv'\n",
    "gDF = pd.read_csv(groundtruth)\n",
    "rDF = pd.read_csv(peer_review)"
   ]
  },
  {
   "cell_type": "markdown",
   "metadata": {},
   "source": [
    "### テスト: corrcoefWithTruth"
   ]
  },
  {
   "cell_type": "markdown",
   "metadata": {},
   "source": [
    "PG1"
   ]
  },
  {
   "cell_type": "code",
   "execution_count": 5,
   "metadata": {
    "collapsed": false
   },
   "outputs": [],
   "source": [
    "%run ../tools/PG1.py\n",
    "modelPG1 = PG1(gDF,rDF)"
   ]
  },
  {
   "cell_type": "code",
   "execution_count": 7,
   "metadata": {
    "collapsed": false
   },
   "outputs": [
    {
     "name": "stdout",
     "output_type": "stream",
     "text": [
      "('58.5537269115 sec', 0.49104967067049959)\n"
     ]
    }
   ],
   "source": [
    "start = time.time()\n",
    "car = modelPG1.corrcoefWithTruth([2.24705059, 2.64350654, 62.67778188, 78.70005719, 1.33529373])\n",
    "elapsed_time = time.time() - start\n",
    "print('{} sec'.format(elapsed_time),car)"
   ]
  },
  {
   "cell_type": "markdown",
   "metadata": {},
   "source": [
    "PG3"
   ]
  },
  {
   "cell_type": "code",
   "execution_count": 9,
   "metadata": {
    "collapsed": true
   },
   "outputs": [],
   "source": [
    "%run ../tools/PG3.py\n",
    "modelPG3 = PG3(gDF,rDF)"
   ]
  },
  {
   "cell_type": "code",
   "execution_count": 10,
   "metadata": {
    "collapsed": false
   },
   "outputs": [
    {
     "name": "stdout",
     "output_type": "stream",
     "text": [
      "('56.5965988636 sec', 0.52030400728406179)\n"
     ]
    }
   ],
   "source": [
    "start = time.time()\n",
    "car = modelPG3.corrcoefWithTruth([2.5849, 3.5444, 0.3473, 0.3090, 4.6517])\n",
    "elapsed_time = time.time() - start\n",
    "print('{} sec'.format(elapsed_time),car)"
   ]
  },
  {
   "cell_type": "markdown",
   "metadata": {},
   "source": [
    "PG4"
   ]
  },
  {
   "cell_type": "code",
   "execution_count": 11,
   "metadata": {
    "collapsed": true
   },
   "outputs": [],
   "source": [
    "%run ../tools/PG4.py\n",
    "modelPG4 = PG4(gDF,rDF)"
   ]
  },
  {
   "cell_type": "code",
   "execution_count": 12,
   "metadata": {
    "collapsed": false
   },
   "outputs": [
    {
     "name": "stdout",
     "output_type": "stream",
     "text": [
      "('96.2258980274 sec', 0.55484953302925089)\n"
     ]
    }
   ],
   "source": [
    "start = time.time()\n",
    "car = modelPG4.corrcoefWithTruth([0.28192147, 2.36290772, 48.87942676, 1.54845615])\n",
    "elapsed_time = time.time() - start\n",
    "print('{} sec'.format(elapsed_time),car)"
   ]
  },
  {
   "cell_type": "markdown",
   "metadata": {},
   "source": [
    "PG5"
   ]
  },
  {
   "cell_type": "code",
   "execution_count": 2,
   "metadata": {
    "collapsed": true
   },
   "outputs": [],
   "source": [
    "%run ../tools/PG5.py\n",
    "modelPG5 = PG5(gDF,rDF)"
   ]
  },
  {
   "cell_type": "code",
   "execution_count": 3,
   "metadata": {
    "collapsed": false
   },
   "outputs": [
    {
     "name": "stdout",
     "output_type": "stream",
     "text": [
      "('2180.40911388 sec', 0.53406076641376732)\n"
     ]
    }
   ],
   "source": [
    "start = time.time()\n",
    "car = modelPG5.corrcoefWithTruth([2.00174501, 1.10831379, 74.93511222, 26.11973294, 7.50114165])\n",
    "elapsed_time = time.time() - start\n",
    "print('{} sec'.format(elapsed_time),car)"
   ]
  },
  {
   "cell_type": "markdown",
   "metadata": {
    "collapsed": true
   },
   "source": [
    "PC1"
   ]
  },
  {
   "cell_type": "code",
   "execution_count": 4,
   "metadata": {
    "collapsed": true
   },
   "outputs": [],
   "source": [
    "%run ../tools/PC1.py\n",
    "modelPC1 = PC1(gDF,rDF)"
   ]
  },
  {
   "cell_type": "code",
   "execution_count": 5,
   "metadata": {
    "collapsed": false
   },
   "outputs": [
    {
     "name": "stdout",
     "output_type": "stream",
     "text": [
      "('75.7060089111 sec', 0.23033553898713291)\n"
     ]
    }
   ],
   "source": [
    "start = time.time()\n",
    "car = modelPC1.corrcoefWithTruth([-1.83033443, 2.74556604, 65.2612221, 74.74509713])\n",
    "elapsed_time = time.time() - start\n",
    "print('{} sec'.format(elapsed_time),car)"
   ]
  },
  {
   "cell_type": "markdown",
   "metadata": {},
   "source": [
    "PC2"
   ]
  },
  {
   "cell_type": "code",
   "execution_count": 6,
   "metadata": {
    "collapsed": true
   },
   "outputs": [],
   "source": [
    "%run ../tools/PC2.py\n",
    "modelPC2 = PC2(gDF,rDF)"
   ]
  },
  {
   "cell_type": "code",
   "execution_count": 7,
   "metadata": {
    "collapsed": false
   },
   "outputs": [
    {
     "name": "stdout",
     "output_type": "stream",
     "text": [
      "('185.733471155 sec', 0.33795283516975383)\n"
     ]
    }
   ],
   "source": [
    "start = time.time()\n",
    "car = modelPC2.corrcoefWithTruth([1.34544218, 20.51353688, 5.8658977, 84.52611041])\n",
    "elapsed_time = time.time() - start\n",
    "print('{} sec'.format(elapsed_time),car)"
   ]
  },
  {
   "cell_type": "markdown",
   "metadata": {},
   "source": [
    "PCG1"
   ]
  },
  {
   "cell_type": "code",
   "execution_count": 10,
   "metadata": {
    "collapsed": true
   },
   "outputs": [],
   "source": [
    "%run ../tools/PCG1.py\n",
    "modelPCG1 = PCG1(gDF,rDF)"
   ]
  },
  {
   "cell_type": "code",
   "execution_count": 11,
   "metadata": {
    "collapsed": false
   },
   "outputs": [
    {
     "name": "stdout",
     "output_type": "stream",
     "text": [
      "('120.969449043 sec', 0.51192027513531979)\n"
     ]
    }
   ],
   "source": [
    "start = time.time()\n",
    "car = modelPCG1.corrcoefWithTruth([1.2889, 3.8100, 88.3020, 65.3661, 1.6036, 14.0968])\n",
    "elapsed_time = time.time() - start\n",
    "print('{} sec'.format(elapsed_time),car)"
   ]
  },
  {
   "cell_type": "markdown",
   "metadata": {},
   "source": [
    "PCG3"
   ]
  },
  {
   "cell_type": "code",
   "execution_count": 6,
   "metadata": {
    "collapsed": true
   },
   "outputs": [],
   "source": [
    "%run ../tools/PCG3.py\n",
    "modelPCG3 = PCG3(gDF,rDF)"
   ]
  },
  {
   "cell_type": "code",
   "execution_count": 7,
   "metadata": {
    "collapsed": false
   },
   "outputs": [
    {
     "name": "stdout",
     "output_type": "stream",
     "text": [
      "('123.069875956 sec', 0.51036973097048188)\n"
     ]
    }
   ],
   "source": [
    "start = time.time()\n",
    "car = modelPCG3.corrcoefWithTruth([2.2846, 2.7477, 0.3643, 0.2702, 30.9335, 27.7534])\n",
    "elapsed_time = time.time() - start\n",
    "print('{} sec'.format(elapsed_time),car)"
   ]
  },
  {
   "cell_type": "markdown",
   "metadata": {},
   "source": [
    "PCG4"
   ]
  },
  {
   "cell_type": "code",
   "execution_count": 8,
   "metadata": {
    "collapsed": true
   },
   "outputs": [],
   "source": [
    "%run ../tools/PCG4.py\n",
    "modelPCG4 = PCG4(gDF,rDF)"
   ]
  },
  {
   "cell_type": "code",
   "execution_count": 9,
   "metadata": {
    "collapsed": false
   },
   "outputs": [
    {
     "name": "stdout",
     "output_type": "stream",
     "text": [
      "('143.998320103 sec', 0.53974667298428047)\n"
     ]
    }
   ],
   "source": [
    "start = time.time()\n",
    "car = modelPCG4.corrcoefWithTruth([2.3278, 1.7688, 84.0586, 2.0195, 22.5038])\n",
    "elapsed_time = time.time() - start\n",
    "print('{} sec'.format(elapsed_time),car)"
   ]
  },
  {
   "cell_type": "markdown",
   "metadata": {},
   "source": [
    "PCG5"
   ]
  },
  {
   "cell_type": "code",
   "execution_count": 4,
   "metadata": {
    "collapsed": true
   },
   "outputs": [],
   "source": [
    "%run ../tools/PCG5.py\n",
    "modelPCG5 = PCG5(gDF,rDF)"
   ]
  },
  {
   "cell_type": "code",
   "execution_count": 5,
   "metadata": {
    "collapsed": false
   },
   "outputs": [
    {
     "name": "stdout",
     "output_type": "stream",
     "text": [
      "('2407.22014189 sec', 0.53831823684868196)\n"
     ]
    }
   ],
   "source": [
    "start = time.time()\n",
    "car = modelPCG5.corrcoefWithTruth([2.0482, 2.0239, 66.4189, 61.5281, 26.3574, 4.1202])\n",
    "elapsed_time = time.time() - start\n",
    "print('{} sec'.format(elapsed_time),car)"
   ]
  },
  {
   "cell_type": "markdown",
   "metadata": {},
   "source": [
    "### メイキング: PG1の入力処理（特にsenderのid,総数の処理）"
   ]
  },
  {
   "cell_type": "markdown",
   "metadata": {},
   "source": [
    "入力データセット"
   ]
  },
  {
   "cell_type": "code",
   "execution_count": 2,
   "metadata": {
    "collapsed": false
   },
   "outputs": [],
   "source": [
    "grade = gDF['grade'].get_values()\n",
    "receiver = rDF['receiver_id'].get_values().astype(np.int64)\n",
    "sender_origin = rDF['sender_id'].get_values().astype(np.int64)\n",
    "value = rDF['value'].get_values().astype(np.int64)"
   ]
  },
  {
   "cell_type": "markdown",
   "metadata": {},
   "source": [
    "グループの総数"
   ]
  },
  {
   "cell_type": "code",
   "execution_count": 3,
   "metadata": {
    "collapsed": false
   },
   "outputs": [],
   "source": [
    "reviewNum = len(receiver)\n",
    "userNum = len(set(receiver))\n",
    "reviewerNum = len(set(sender_origin))"
   ]
  },
  {
   "cell_type": "markdown",
   "metadata": {},
   "source": [
    "sender用のid発行と復元テーブルを作成"
   ]
  },
  {
   "cell_type": "code",
   "execution_count": 4,
   "metadata": {
    "collapsed": false
   },
   "outputs": [],
   "source": [
    "sender_origin_id = list(set(sender_origin))\n",
    "sender_origin_id.sort()"
   ]
  },
  {
   "cell_type": "code",
   "execution_count": 5,
   "metadata": {
    "collapsed": false
   },
   "outputs": [
    {
     "data": {
      "text/plain": [
       "array([ 17,  29,  16, ...,   3, 126, 126])"
      ]
     },
     "execution_count": 5,
     "metadata": {},
     "output_type": "execute_result"
    }
   ],
   "source": [
    "sender = np.copy(sender_origin)\n",
    "for i,origin in enumerate(sender_origin_id):\n",
    "    sender[sender == origin] = i\n",
    "sender"
   ]
  },
  {
   "cell_type": "code",
   "execution_count": 8,
   "metadata": {
    "collapsed": false
   },
   "outputs": [
    {
     "data": {
      "text/plain": [
       "(5008,)"
      ]
     },
     "execution_count": 8,
     "metadata": {},
     "output_type": "execute_result"
    }
   ],
   "source": [
    "sender.shape"
   ]
  },
  {
   "cell_type": "markdown",
   "metadata": {},
   "source": [
    "入力データセット"
   ]
  },
  {
   "cell_type": "markdown",
   "metadata": {},
   "source": [
    "推定パラメータ読み込み"
   ]
  },
  {
   "cell_type": "code",
   "execution_count": 57,
   "metadata": {
    "collapsed": false
   },
   "outputs": [
    {
     "data": {
      "text/plain": [
       "0.49065246361026771"
      ]
     },
     "execution_count": 57,
     "metadata": {},
     "output_type": "execute_result"
    }
   ],
   "source": [
    "f = open(os.path.join(save_param_dir,'???.pkl'),'rb')\n",
    "est = pickle.load(f)\n",
    "np.corrcoef(modelPG1.grade, est['ability'])[0,1]"
   ]
  }
 ],
 "metadata": {
  "kernelspec": {
   "display_name": "Python 2",
   "language": "python",
   "name": "python2"
  },
  "language_info": {
   "codemirror_mode": {
    "name": "ipython",
    "version": 2
   },
   "file_extension": ".py",
   "mimetype": "text/x-python",
   "name": "python",
   "nbconvert_exporter": "python",
   "pygments_lexer": "ipython2",
   "version": "2.7.6"
  }
 },
 "nbformat": 4,
 "nbformat_minor": 0
}
