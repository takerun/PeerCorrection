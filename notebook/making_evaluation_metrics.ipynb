{
 "cells": [
  {
   "cell_type": "code",
   "execution_count": 1,
   "metadata": {
    "collapsed": true
   },
   "outputs": [],
   "source": [
    "import os,sys\n",
    "import pickle\n",
    "import copy\n",
    "import numpy as np\n",
    "import pandas as pd\n",
    "from scipy import stats\n",
    "import matplotlib\n",
    "import matplotlib.pyplot as plt\n",
    "\n",
    "%matplotlib inline"
   ]
  },
  {
   "cell_type": "code",
   "execution_count": 2,
   "metadata": {
    "collapsed": true
   },
   "outputs": [],
   "source": [
    "groundtruth = '../dataset/open_peer_review_v3/peer_review/translated_groundtruth.csv'\n",
    "peer_review = '../dataset/open_peer_review_v3/peer_review/peer_review_forPG3.csv'\n",
    "gDF = pd.read_csv(groundtruth)\n",
    "rDF = pd.read_csv(peer_review)"
   ]
  },
  {
   "cell_type": "markdown",
   "metadata": {},
   "source": [
    "真の能力パラメータ"
   ]
  },
  {
   "cell_type": "code",
   "execution_count": 3,
   "metadata": {
    "collapsed": false
   },
   "outputs": [
    {
     "data": {
      "text/plain": [
       "(413,)"
      ]
     },
     "execution_count": 3,
     "metadata": {},
     "output_type": "execute_result"
    }
   ],
   "source": [
    "true_ability = gDF['grade'].get_values()\n",
    "true_ability.shape"
   ]
  },
  {
   "cell_type": "markdown",
   "metadata": {},
   "source": [
    "推定能力パラメータの取り出し"
   ]
  },
  {
   "cell_type": "code",
   "execution_count": 4,
   "metadata": {
    "collapsed": false
   },
   "outputs": [
    {
     "data": {
      "text/plain": [
       "Index([u'file', u'mu0', u'gamma0', u'alpha0', u'beta0', u'eta0'], dtype='object')"
      ]
     },
     "execution_count": 4,
     "metadata": {},
     "output_type": "execute_result"
    }
   ],
   "source": [
    "#推定結果テーブルdf_resultの読み込み\n",
    "path_result = '../result/inferred_parameter/PG1/models.csv'\n",
    "df_result = pd.read_csv(path_result)\n",
    "df_result.columns"
   ]
  },
  {
   "cell_type": "code",
   "execution_count": 5,
   "metadata": {
    "collapsed": false,
    "scrolled": true
   },
   "outputs": [
    {
     "data": {
      "text/plain": [
       "(150, 413)"
      ]
     },
     "execution_count": 5,
     "metadata": {},
     "output_type": "execute_result"
    }
   ],
   "source": [
    "#推定パラメータestimated_abilitiesの取り出し\n",
    "dir_result = os.path.dirname(path_result)\n",
    "estimated_abilities = np.empty((0,len(gDF)))\n",
    "for fname in df_result['file']:\n",
    "    with open(os.path.join(dir_result,fname),'rb') as f:\n",
    "        est = pickle.load(f)\n",
    "    add =  np.expand_dims(est['ability'],axis=0)\n",
    "    estimated_abilities = np.append(estimated_abilities,add,axis=0)\n",
    "estimated_abilities.shape"
   ]
  },
  {
   "cell_type": "markdown",
   "metadata": {},
   "source": [
    "等分割評価のモジュール化"
   ]
  },
  {
   "cell_type": "code",
   "execution_count": 6,
   "metadata": {
    "collapsed": true
   },
   "outputs": [],
   "source": [
    "def evaluateEstimationInFold(func_metric,name_metric,num_folds,true_scores,arr_estimated_scores):\n",
    "    #ランダムな系列を作成、等分割\n",
    "    np.random.seed(12345678)\n",
    "    permu =np.random.permutation(len(true_scores))\n",
    "    idx_inFold = np.array_split(permu, num_folds)\n",
    "    statistic_test = np.empty(0)\n",
    "    for loop in xrange(num_folds):\n",
    "        buf_list = copy.copy(idx_inFold)\n",
    "        idx_train = buf_list.pop(loop)\n",
    "        idx_test = np.concatenate(buf_list)\n",
    "        #train\n",
    "        true_train = true_scores[idx_train]\n",
    "        arr_estimated_train = arr_estimated_scores[:,idx_train]\n",
    "        corrcoefs_train = np.array([func_metric(true_train, estimated_train) for estimated_train in arr_estimated_train])\n",
    "        id_best_model = corrcoefs_train.argmax()\n",
    "        #test\n",
    "        true_test = true_scores[idx_test]\n",
    "        estimated_test_best = arr_estimated_scores[id_best_model,idx_test]\n",
    "        corrcoef_test = func_metric(true_test, estimated_test_best)\n",
    "        print('test {0}:{1}, best train {0}:{2}, best model:{3}'.format(name_metric,corrcoef_test,corrcoefs_train.max(), id_best_model))\n",
    "        #accumulate\n",
    "        statistic_test = np.append(statistic_test,corrcoef_test)\n",
    "    print('mean:{0}, std:{1}'.format(statistic_test.mean(),statistic_test.std()))"
   ]
  },
  {
   "cell_type": "markdown",
   "metadata": {},
   "source": [
    "モジュール化チェック(相関係数)"
   ]
  },
  {
   "cell_type": "code",
   "execution_count": 7,
   "metadata": {
    "collapsed": false
   },
   "outputs": [
    {
     "name": "stdout",
     "output_type": "stream",
     "text": [
      "test corrcoef:0.47426950863, best train corrcoef:0.545175139462, best model:45\n",
      "test corrcoef:0.509477413827, best train corrcoef:0.518617857268, best model:105\n",
      "test corrcoef:0.525348545448, best train corrcoef:0.435591790436, best model:113\n",
      "test corrcoef:0.447090616546, best train corrcoef:0.607691093172, best model:55\n",
      "test corrcoef:0.501063009565, best train corrcoef:0.53948370408, best model:32\n",
      "mean:0.491449818803, std:0.0276746568889\n"
     ]
    }
   ],
   "source": [
    "corrcoef = lambda true,estimated: np.corrcoef(true, estimated)[0,1]\n",
    "name_metric = 'corrcoef'\n",
    "num_folds = 5\n",
    "true_scores = true_ability\n",
    "arr_estimated_scores = estimated_abilities\n",
    "evaluateEstimationInFold(corrcoef,name_metric,num_folds,true_scores,arr_estimated_scores)"
   ]
  },
  {
   "cell_type": "markdown",
   "metadata": {},
   "source": [
    "## PG1の推定パラメータを真のパラメータと評価する"
   ]
  },
  {
   "cell_type": "markdown",
   "metadata": {},
   "source": [
    "### 相関係数"
   ]
  },
  {
   "cell_type": "markdown",
   "metadata": {},
   "source": [
    "#### 全体"
   ]
  },
  {
   "cell_type": "code",
   "execution_count": 6,
   "metadata": {
    "collapsed": false
   },
   "outputs": [
    {
     "name": "stdout",
     "output_type": "stream",
     "text": [
      "('PG1-20171209180929.pkl', 0.50960129726310899)\n",
      "('PG1-20171209181024.pkl', 0.44538794535592585)\n",
      "('PG1-20171209181115.pkl', 0.49300073398205158)\n",
      "('PG1-20171209181406.pkl', 0.34932887678569385)\n",
      "('PG1-20171209181503.pkl', 0.47923691510559002)\n",
      "('PG1-20171209181558.pkl', 0.48328102145894697)\n",
      "('PG1-20171209181649.pkl', 0.50403145287369999)\n",
      "('PG1-20171209181748.pkl', 0.44007452950907761)\n",
      "('PG1-20171209181842.pkl', 0.49556415250975971)\n",
      "('PG1-20171209181934.pkl', 0.51269753337240287)\n",
      "('PG1-20171209182031.pkl', 0.47548405772457902)\n",
      "('PG1-20171209182427.pkl', 0.46523112303565095)\n",
      "('PG1-20171209182524.pkl', 0.44796626514657195)\n",
      "('PG1-20171209182621.pkl', 0.45709316003419187)\n",
      "('PG1-20171209182711.pkl', 0.4770017668728001)\n",
      "('PG1-20171209182806.pkl', 0.49380998469177018)\n",
      "('PG1-20171209182858.pkl', 0.50570647459857121)\n",
      "('PG1-20171209182953.pkl', 0.50549850849737565)\n",
      "('PG1-20171209183046.pkl', 0.47368754754635156)\n",
      "('PG1-20171209183144.pkl', 0.456409535050392)\n",
      "('PG1-20171209183236.pkl', 0.50304821044700754)\n",
      "('PG1-20171209183333.pkl', 0.48071191538713237)\n",
      "('PG1-20171209183425.pkl', 0.42877454416405797)\n",
      "('PG1-20171209183528.pkl', 0.46687791636650772)\n",
      "('PG1-20171209183625.pkl', 0.48079045233337853)\n",
      "('PG1-20171209183725.pkl', 0.49011003244364287)\n",
      "('PG1-20171209183821.pkl', 0.49576189113694558)\n",
      "('PG1-20171209183922.pkl', 0.4788005623910821)\n",
      "('PG1-20171209184023.pkl', 0.48012803327038966)\n",
      "('PG1-20171209184142.pkl', 0.4300648709312484)\n",
      "('PG1-20171209184622.pkl', 0.44860475342831591)\n",
      "('PG1-20171209184720.pkl', 0.49991265262763862)\n",
      "('PG1-20171209184813.pkl', 0.50908872693008855)\n",
      "('PG1-20171209184908.pkl', 0.48796453872210493)\n",
      "('PG1-20171209185002.pkl', 0.42704720591870093)\n",
      "('PG1-20171209185058.pkl', 0.48582291895766794)\n",
      "('PG1-20171209185202.pkl', 0.46202419625600827)\n",
      "('PG1-20171209185257.pkl', 0.49001267890128186)\n",
      "('PG1-20171209185357.pkl', 0.41447113736020214)\n",
      "('PG1-20171209185529.pkl', 0.45597471852774601)\n",
      "('PG1-20171209185623.pkl', 0.50473863832825761)\n",
      "('PG1-20171209185724.pkl', 0.45118783200051787)\n",
      "('PG1-20171209185818.pkl', 0.5041639837804871)\n",
      "('PG1-20171209185919.pkl', 0.51010659736972075)\n",
      "('PG1-20171209190014.pkl', 0.5129715627086725)\n",
      "('PG1-20171209190139.pkl', 0.49004243549216642)\n",
      "('PG1-20171209190233.pkl', 0.43409030453703562)\n",
      "('PG1-20171209190326.pkl', 0.51601899640591098)\n",
      "('PG1-20171209190422.pkl', 0.45457900821923919)\n",
      "('PG1-20171209190514.pkl', 0.49824054665958295)\n",
      "('PG1-20171209190611.pkl', 0.49120969616879495)\n",
      "('PG1-20171209190700.pkl', 0.47125855000614358)\n",
      "('PG1-20171209190757.pkl', 0.46839872107965802)\n",
      "('PG1-20171209190849.pkl', 0.48367364686609216)\n",
      "('PG1-20171209190942.pkl', 0.3504164612302717)\n",
      "('PG1-20171209191038.pkl', 0.48526294133275955)\n",
      "('PG1-20171209191136.pkl', 0.48943290715186089)\n",
      "('PG1-20171209191233.pkl', 0.45383045525981536)\n",
      "('PG1-20171209191328.pkl', 0.4499565132747641)\n",
      "('PG1-20171209191421.pkl', 0.51016650161045618)\n",
      "('PG1-20171209191554.pkl', 0.43446981577661264)\n",
      "('PG1-20171209191649.pkl', 0.39975952037403806)\n",
      "('PG1-20171209191745.pkl', 0.46250902667949828)\n",
      "('PG1-20171209191840.pkl', 0.49711848811994386)\n",
      "('PG1-20171209191931.pkl', 0.50218874833235372)\n",
      "('PG1-20171209192025.pkl', 0.49634259236536776)\n",
      "('PG1-20171209192120.pkl', 0.50590086207205465)\n",
      "('PG1-20171209192211.pkl', 0.49637431811242561)\n",
      "('PG1-20171209192302.pkl', 0.49197992543976271)\n",
      "('PG1-20171209192356.pkl', 0.47470235226633295)\n",
      "('PG1-20171209192452.pkl', 0.40549841400266667)\n",
      "('PG1-20171209192547.pkl', 0.47826761101958376)\n",
      "('PG1-20171209192644.pkl', 0.45939406123252546)\n",
      "('PG1-20171209192738.pkl', 0.46053515059951133)\n",
      "('PG1-20171209192835.pkl', 0.49166251183267334)\n",
      "('PG1-20171209192933.pkl', 0.43034498812645461)\n",
      "('PG1-20171209193031.pkl', 0.46521584541330202)\n",
      "('PG1-20171209193125.pkl', 0.4724941160888716)\n",
      "('PG1-20171209193221.pkl', 0.4734774274230622)\n",
      "('PG1-20171209193314.pkl', 0.5077979526440094)\n",
      "('PG1-20171209193412.pkl', 0.47222147050586744)\n",
      "('PG1-20171209193516.pkl', 0.48781965921497178)\n",
      "('PG1-20171209193612.pkl', 0.48260951225500459)\n",
      "('PG1-20171209193710.pkl', 0.4675516074389211)\n",
      "('PG1-20171209193807.pkl', 0.4370124412280213)\n",
      "('PG1-20171209193900.pkl', 0.43486157749830012)\n",
      "('PG1-20171209194026.pkl', 0.44598210138406169)\n",
      "('PG1-20171209194120.pkl', 0.44104913718141248)\n",
      "('PG1-20171209194215.pkl', 0.5072634753527584)\n",
      "('PG1-20171209194308.pkl', 0.50086775099905778)\n",
      "('PG1-20171209194407.pkl', 0.48905443418571648)\n",
      "('PG1-20171209194506.pkl', 0.46928305047259466)\n",
      "('PG1-20171209194559.pkl', 0.46878051207014981)\n",
      "('PG1-20171209194658.pkl', 0.47103480713409029)\n",
      "('PG1-20171209194750.pkl', 0.44866121830906597)\n",
      "('PG1-20171209194846.pkl', 0.49867335511804434)\n",
      "('PG1-20171209194946.pkl', 0.46453842037832738)\n",
      "('PG1-20171209195051.pkl', 0.47287166511877449)\n",
      "('PG1-20171209195148.pkl', 0.47069899995672976)\n",
      "('PG1-20171209195256.pkl', 0.474739969263204)\n",
      "('PG1-20171209195358.pkl', 0.45431337825208312)\n",
      "('PG1-20171209195457.pkl', 0.44667498247022508)\n",
      "('PG1-20171209195554.pkl', 0.45478421399433272)\n",
      "('PG1-20171209195651.pkl', 0.48870080881297451)\n",
      "('PG1-20171209195748.pkl', 0.49363649884460087)\n",
      "('PG1-20171209195838.pkl', 0.50843813644845115)\n",
      "('PG1-20171209195939.pkl', 0.47674442823362556)\n",
      "('PG1-20171209200037.pkl', 0.46118565977029979)\n",
      "('PG1-20171209200135.pkl', 0.44323602242699139)\n",
      "('PG1-20171209200239.pkl', 0.44816983540304878)\n",
      "('PG1-20171209200407.pkl', 0.43018633741644063)\n",
      "('PG1-20171209200459.pkl', 0.38258063215739635)\n",
      "('PG1-20171209200557.pkl', 0.49952885397676938)\n",
      "('PG1-20171209200654.pkl', 0.51122448923926112)\n",
      "('PG1-20171209200758.pkl', 0.46189173663221622)\n",
      "('PG1-20171209200858.pkl', 0.46475426880837156)\n",
      "('PG1-20171209200950.pkl', 0.44007887735947521)\n",
      "('PG1-20171209201235.pkl', 0.4438398823790467)\n",
      "('PG1-20171209201330.pkl', 0.50321981126827997)\n",
      "('PG1-20171209201426.pkl', 0.43700916932361111)\n",
      "('PG1-20171209201526.pkl', 0.4784524100688694)\n",
      "('PG1-20171209201623.pkl', 0.49834653805993256)\n",
      "('PG1-20171209201723.pkl', 0.48361065201305425)\n",
      "('PG1-20171209201824.pkl', 0.43682776496941245)\n",
      "('PG1-20171209201924.pkl', 0.47629514076165735)\n",
      "('PG1-20171209202021.pkl', 0.47280143858843393)\n",
      "('PG1-20171209202120.pkl', 0.48793196432236075)\n",
      "('PG1-20171209202214.pkl', 0.48102926842043786)\n",
      "('PG1-20171209202312.pkl', 0.49900508864112825)\n",
      "('PG1-20171209202414.pkl', 0.459757280482397)\n",
      "('PG1-20171209202514.pkl', 0.46009939459613969)\n",
      "('PG1-20171209202614.pkl', 0.4905582173239646)\n",
      "('PG1-20171209202711.pkl', 0.47081638713909846)\n",
      "('PG1-20171209202812.pkl', 0.4809940512452166)\n",
      "('PG1-20171209202916.pkl', 0.45013498195462737)\n",
      "('PG1-20171209203009.pkl', 0.47496981099867264)\n",
      "('PG1-20171209203138.pkl', 0.41478380800565673)\n",
      "('PG1-20171209203241.pkl', 0.43946681952986988)\n",
      "('PG1-20171209203341.pkl', 0.49189696563191365)\n",
      "('PG1-20171209203441.pkl', 0.46251312138711359)\n",
      "('PG1-20171209203543.pkl', 0.4773712094052398)\n",
      "('PG1-20171209203644.pkl', 0.45396573144254332)\n",
      "('PG1-20171209203740.pkl', 0.44468121079032269)\n",
      "('PG1-20171209203833.pkl', 0.48393647412395085)\n",
      "('PG1-20171209203934.pkl', 0.46169954651223211)\n",
      "('PG1-20171209204033.pkl', 0.50131011658951841)\n",
      "('PG1-20171209204134.pkl', 0.47107881507625499)\n",
      "('PG1-20171209204235.pkl', 0.41217125422508216)\n",
      "('PG1-20171209204338.pkl', 0.45684963919168042)\n",
      "('PG1-20171209204436.pkl', 0.40429755057134514)\n"
     ]
    }
   ],
   "source": [
    "for file_model,estimated_ability in zip(df_result['file'],estimated_abilities):\n",
    "    print(file_model, np.corrcoef(true_ability, estimated_ability)[0,1])"
   ]
  },
  {
   "cell_type": "code",
   "execution_count": 7,
   "metadata": {
    "collapsed": false
   },
   "outputs": [
    {
     "data": {
      "text/plain": [
       "0.51601899640591098"
      ]
     },
     "execution_count": 7,
     "metadata": {},
     "output_type": "execute_result"
    }
   ],
   "source": [
    "corrcoefs = np.array([np.corrcoef(true_ability, estimated_ability)[0,1] for estimated_ability in estimated_abilities])\n",
    "corrcoefs.max()"
   ]
  },
  {
   "cell_type": "code",
   "execution_count": 8,
   "metadata": {
    "collapsed": false
   },
   "outputs": [
    {
     "data": {
      "text/plain": [
       "file      PG1-20171209190326.pkl\n",
       "mu0                      1.83275\n",
       "gamma0                   2.84238\n",
       "alpha0                   58.8044\n",
       "beta0                    38.8895\n",
       "eta0                     4.49621\n",
       "Name: 47, dtype: object"
      ]
     },
     "execution_count": 8,
     "metadata": {},
     "output_type": "execute_result"
    }
   ],
   "source": [
    "df_result.iloc[corrcoefs.argmax()]"
   ]
  },
  {
   "cell_type": "markdown",
   "metadata": {},
   "source": [
    "#### 5分割評価, 等分割評価のメイキング"
   ]
  },
  {
   "cell_type": "code",
   "execution_count": 9,
   "metadata": {
    "collapsed": true
   },
   "outputs": [],
   "source": [
    "#ユーザーidのランダムな系列を作成、分割\n",
    "num_folds = 5\n",
    "np.random.seed(12345678)\n",
    "permu =np.random.permutation(len(true_ability))\n",
    "idx_inFold = np.array_split(permu, num_folds)"
   ]
  },
  {
   "cell_type": "code",
   "execution_count": 19,
   "metadata": {
    "collapsed": false,
    "scrolled": true
   },
   "outputs": [
    {
     "name": "stdout",
     "output_type": "stream",
     "text": [
      "test corrcoef:0.47426950863, best train corrcoef:0.545175139462, best model:45\n",
      "test corrcoef:0.509477413827, best train corrcoef:0.518617857268, best model:105\n",
      "test corrcoef:0.525348545448, best train corrcoef:0.435591790436, best model:113\n",
      "test corrcoef:0.447090616546, best train corrcoef:0.607691093172, best model:55\n",
      "test corrcoef:0.501063009565, best train corrcoef:0.53948370408, best model:32\n",
      "mean:0.491449818803, std:0.0276746568889\n"
     ]
    }
   ],
   "source": [
    "statistic_test = np.empty(0)\n",
    "for loop in xrange(num_folds):\n",
    "    buf_list = copy.copy(idx_inFold)\n",
    "    idx_train = buf_list.pop(loop)\n",
    "    idx_test = np.concatenate(buf_list)\n",
    "    #train\n",
    "    true_train = true_ability[idx_train]\n",
    "    estimations_train = estimated_abilities[:,idx_train]\n",
    "    corrcoefs_train = np.array([np.corrcoef(true_train, estimated_ability)[0,1] for estimated_ability in estimations_train])\n",
    "    id_best_model = corrcoefs_train.argmax()\n",
    "    #test\n",
    "    true_test = true_ability[idx_test]\n",
    "    estimation_test = estimated_abilities[id_best_model,idx_test]\n",
    "    corrcoef_test = np.corrcoef(true_test, estimation_test)[0,1]\n",
    "    print('test corrcoef:{0}, best train corrcoef:{1}, best model:{2}'.format(corrcoef_test,corrcoefs_train.max(), id_best_model))\n",
    "    #accumulate\n",
    "    statistic_test = np.append(statistic_test,corrcoef_test)\n",
    "print('mean:{0}, std:{1}'.format(statistic_test.mean(),statistic_test.std()))"
   ]
  },
  {
   "cell_type": "markdown",
   "metadata": {},
   "source": [
    "##### (loop=2)"
   ]
  },
  {
   "cell_type": "code",
   "execution_count": 11,
   "metadata": {
    "collapsed": false
   },
   "outputs": [],
   "source": [
    "loop = 2\n",
    "buf_list = copy.copy(idx_inFold)\n",
    "idx_train = buf_list.pop(loop)\n",
    "idx_test = np.concatenate(buf_list)"
   ]
  },
  {
   "cell_type": "code",
   "execution_count": 12,
   "metadata": {
    "collapsed": false
   },
   "outputs": [
    {
     "data": {
      "text/plain": [
       "(0.4355917904357367, 113)"
      ]
     },
     "execution_count": 12,
     "metadata": {},
     "output_type": "execute_result"
    }
   ],
   "source": [
    "#train\n",
    "true_train = true_ability[idx_train]\n",
    "estimations_train = estimated_abilities[:,idx_train]\n",
    "corrcoefs_train = np.array([np.corrcoef(true_train, estimated_ability)[0,1] for estimated_ability in estimations_train])\n",
    "corrcoefs_train.max(), corrcoefs_train.argmax()"
   ]
  },
  {
   "cell_type": "code",
   "execution_count": 13,
   "metadata": {
    "collapsed": false
   },
   "outputs": [
    {
     "data": {
      "text/plain": [
       "file      PG1-20171209200654.pkl\n",
       "mu0                      0.16427\n",
       "gamma0                   2.16836\n",
       "alpha0                   86.4858\n",
       "beta0                    71.3242\n",
       "eta0                     2.39143\n",
       "Name: 113, dtype: object"
      ]
     },
     "execution_count": 13,
     "metadata": {},
     "output_type": "execute_result"
    }
   ],
   "source": [
    "id_best_model = corrcoefs_train.argmax()\n",
    "df_result.iloc[id_best_model]"
   ]
  },
  {
   "cell_type": "code",
   "execution_count": 14,
   "metadata": {
    "collapsed": false
   },
   "outputs": [
    {
     "data": {
      "text/plain": [
       "0.5253485454477187"
      ]
     },
     "execution_count": 14,
     "metadata": {},
     "output_type": "execute_result"
    }
   ],
   "source": [
    "#test\n",
    "true_test = true_ability[idx_test]\n",
    "estimation_test = estimated_abilities[id_best_model,idx_test]\n",
    "np.corrcoef(true_test, estimation_test)[0,1]"
   ]
  },
  {
   "cell_type": "markdown",
   "metadata": {},
   "source": [
    "### 順位相関"
   ]
  },
  {
   "cell_type": "markdown",
   "metadata": {},
   "source": [
    "#### 5分割評価"
   ]
  },
  {
   "cell_type": "code",
   "execution_count": null,
   "metadata": {
    "collapsed": true
   },
   "outputs": [],
   "source": [
    "rank_corrcoef = lambda true,estimated: np.corrcoef(true, estimated)[0,1]\n",
    "name_metric = 'rank_corrcoef'\n",
    "num_folds = 5\n",
    "true_scores = true_ability\n",
    "arr_estimated_scores = estimated_abilities\n",
    "evaluateEstimationInFold(rank_corrcoef,name_metric,num_folds,true_scores,arr_estimated_scores)"
   ]
  }
 ],
 "metadata": {
  "kernelspec": {
   "display_name": "Python 2",
   "language": "python",
   "name": "python2"
  },
  "language_info": {
   "codemirror_mode": {
    "name": "ipython",
    "version": 2
   },
   "file_extension": ".py",
   "mimetype": "text/x-python",
   "name": "python",
   "nbconvert_exporter": "python",
   "pygments_lexer": "ipython2",
   "version": "2.7.6"
  }
 },
 "nbformat": 4,
 "nbformat_minor": 0
}
