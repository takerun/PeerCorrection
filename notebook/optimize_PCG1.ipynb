{
 "cells": [
  {
   "cell_type": "code",
   "execution_count": 1,
   "metadata": {
    "collapsed": true
   },
   "outputs": [],
   "source": [
    "import GPy\n",
    "import GPyOpt\n",
    "import numpy as np \n",
    "\n",
    "%run ../tools/PCG1.py\n",
    "model = PCG1('../dataset/peer_review/translated_groundtruth.csv','../dataset/peer_review/peer_review_dataset.csv')"
   ]
  },
  {
   "cell_type": "code",
   "execution_count": null,
   "metadata": {
    "collapsed": false
   },
   "outputs": [
    {
     "name": "stdout",
     "output_type": "stream",
     "text": [
      "(1, 6)\n",
      "[-0.052157495782550356, 394.66291307445965, 28.963038263092031, 34.7333014949184, 731.88094004433253, 8.0350935708825073]\n"
     ]
    }
   ],
   "source": [
    "bounds = [\n",
    "        {'name': 'mu0', 'type': 'continuous', 'domain': (-2,2)},\n",
    "        {'name': 'gamma0', 'type': 'continuous', 'domain': (1.0e-1,1.0e3)},\n",
    "        {'name': 'alpha0', 'type': 'continuous', 'domain': (1.0e-2,1.0e2)},\n",
    "        {'name': 'beta0', 'type': 'continuous', 'domain': (1.0e-2,1.0e2)},\n",
    "        {'name': 'eta0', 'type': 'continuous', 'domain': (1.0e-1,1.0e3)},\n",
    "        {'name': 'kappa0', 'type': 'continuous', 'domain': (1.0e-3,1.0e1)}\n",
    "]\n",
    "myBopt = GPyOpt.methods.BayesianOptimization(f=model.FunctionforGPyOpt, domain=bounds, initial_design_numdata=5,acquisition_type='LCB')"
   ]
  },
  {
   "cell_type": "code",
   "execution_count": null,
   "metadata": {
    "collapsed": false
   },
   "outputs": [
    {
     "name": "stdout",
     "output_type": "stream",
     "text": [
      "(<type 'numpy.ndarray'>, (1, 6))\n",
      "[-4.6527614740078684, 74238.142599919927, 48648.095325854287, 67364.261009940965, 89695.405447983401, 74086.328552408348]\n"
     ]
    }
   ],
   "source": [
    "myBopt.run_optimization(max_iter=1)"
   ]
  },
  {
   "cell_type": "code",
   "execution_count": null,
   "metadata": {
    "collapsed": true
   },
   "outputs": [],
   "source": []
  },
  {
   "cell_type": "code",
   "execution_count": 6,
   "metadata": {
    "collapsed": false
   },
   "outputs": [
    {
     "name": "stdout",
     "output_type": "stream",
     "text": [
      "271.379085064\n"
     ]
    }
   ],
   "source": [
    "import time\n",
    "start = time.time()\n",
    "stan_fit = model.corrcoefWithTruth([1,1,9,0.5,10, 0.5])\n",
    "elapsed_time = time.time() - start\n",
    "print(elapsed_time)"
   ]
  },
  {
   "cell_type": "code",
   "execution_count": 7,
   "metadata": {
    "collapsed": false
   },
   "outputs": [
    {
     "data": {
      "text/plain": [
       "0.4046800810043944"
      ]
     },
     "execution_count": 7,
     "metadata": {},
     "output_type": "execute_result"
    }
   ],
   "source": [
    "stan_fit"
   ]
  },
  {
   "cell_type": "code",
   "execution_count": 13,
   "metadata": {
    "collapsed": false
   },
   "outputs": [
    {
     "name": "stdout",
     "output_type": "stream",
     "text": [
      "20170704191727\n"
     ]
    }
   ],
   "source": [
    "import datetime\n",
    "todaydetail  =    datetime.datetime.today()\n",
    "print todaydetail.strftime(\"%Y%m%d%H%M%S\")"
   ]
  },
  {
   "cell_type": "code",
   "execution_count": null,
   "metadata": {
    "collapsed": true
   },
   "outputs": [],
   "source": []
  }
 ],
 "metadata": {
  "kernelspec": {
   "display_name": "Python 2",
   "language": "python",
   "name": "python2"
  },
  "language_info": {
   "codemirror_mode": {
    "name": "ipython",
    "version": 2
   },
   "file_extension": ".py",
   "mimetype": "text/x-python",
   "name": "python",
   "nbconvert_exporter": "python",
   "pygments_lexer": "ipython2",
   "version": "2.7.6"
  }
 },
 "nbformat": 4,
 "nbformat_minor": 0
}
